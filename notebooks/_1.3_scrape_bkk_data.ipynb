{
 "cells": [
  {
   "cell_type": "code",
   "execution_count": 190,
   "metadata": {},
   "outputs": [
    {
     "name": "stdout",
     "output_type": "stream",
     "text": [
      "The autoreload extension is already loaded. To reload it, use:\n",
      "  %reload_ext autoreload\n"
     ]
    }
   ],
   "source": [
    "#  Load the \"autoreload\" extension so that code can change\n",
    "%load_ext autoreload\n",
    "%reload_ext autoreload\n",
    "\n",
    "#  always reload modules so that as you change code in src, it gets loaded\n",
    "%autoreload 2\n",
    "%matplotlib inline\n",
    "\n",
    "import sys\n",
    "sys.path.append('../')\n",
    "from src.imports import *\n",
    "from src.data.download_data import *\n",
    "from src.data.read_data import *\n",
    "from src.data.fire_data import *\n",
    "from src.data.vn_data import *\n",
    "from src.data.weather_data import *\n",
    "from src.gen_functions import *\n",
    "from src.features.dataset import Dataset\n",
    "\n",
    "\n",
    "from src.data.bkp_data import *"
   ]
  },
  {
   "cell_type": "code",
   "execution_count": 195,
   "metadata": {},
   "outputs": [
    {
     "name": "stdout",
     "output_type": "stream",
     "text": [
      "download more pollution data from Bangkok Air Quality  Website\n"
     ]
    },
    {
     "name": "stderr",
     "output_type": "stream",
     "text": [
      "\n",
      "0it [00:00, ?it/s]\u001b[A\n",
      "1it [00:22, 22.72s/it]\u001b[A\n",
      "2it [00:45, 22.70s/it]\u001b[A\n",
      "3it [01:08, 22.86s/it]\u001b[A\n",
      "4it [01:31, 22.81s/it]\u001b[A\n",
      "5it [01:53, 22.75s/it]\u001b[A\n",
      "6it [02:16, 22.71s/it]\u001b[A\n",
      "7it [02:39, 22.68s/it]\u001b[A\n",
      "8it [03:02, 22.93s/it]\u001b[A\n",
      "9it [03:25, 23.03s/it]\u001b[A\n",
      "10it [03:48, 22.91s/it]\u001b[A\n",
      "11it [04:11, 22.84s/it]\u001b[A\n",
      "12it [04:34, 23.00s/it]\u001b[A\n",
      "13it [04:57, 22.91s/it]\u001b[A\n",
      "14it [05:19, 22.82s/it]\u001b[A\n",
      "15it [05:43, 22.98s/it]\u001b[A\n",
      "16it [06:05, 22.85s/it]\u001b[A\n",
      "17it [06:28, 22.78s/it]\u001b[A\n",
      "18it [06:52, 23.05s/it]\u001b[A\n",
      "19it [07:15, 23.09s/it]\u001b[A\n",
      "20it [07:39, 23.33s/it]\u001b[A\n",
      "21it [08:01, 23.11s/it]\u001b[A\n",
      "22it [08:24, 22.95s/it]\u001b[A\n",
      "23it [08:47, 22.86s/it]\u001b[A\n",
      "24it [09:09, 22.77s/it]\u001b[A\n",
      "25it [09:32, 22.72s/it]\u001b[A\n",
      "26it [09:55, 23.02s/it]\u001b[A\n",
      "27it [10:21, 23.73s/it]\u001b[A\n",
      "28it [10:43, 23.38s/it]\u001b[A\n",
      "29it [11:06, 23.17s/it]\u001b[A\n",
      "30it [11:30, 23.52s/it]\u001b[A\n",
      "31it [11:54, 23.54s/it]\u001b[A\n",
      "32it [12:18, 23.55s/it]\u001b[A\n",
      "33it [12:40, 23.26s/it]\u001b[A\n",
      "34it [13:03, 23.04s/it]\u001b[A\n",
      "35it [13:26, 23.16s/it]\u001b[A\n",
      "36it [13:51, 23.77s/it]\u001b[A\n",
      "37it [14:14, 23.35s/it]\u001b[A\n",
      "38it [14:36, 23.07s/it]\u001b[A\n",
      "39it [15:02, 23.80s/it]\u001b[A\n",
      "40it [15:25, 23.58s/it]\u001b[A\n",
      "41it [15:48, 23.40s/it]\u001b[A\n",
      "42it [16:10, 23.08s/it]\u001b[A\n",
      "43it [16:34, 23.30s/it]\u001b[A\n",
      "44it [16:56, 23.01s/it]\u001b[A\n",
      "45it [17:18, 22.81s/it]\u001b[A\n",
      "46it [17:41, 22.68s/it]\u001b[A\n",
      "47it [18:03, 22.58s/it]\u001b[A\n",
      "48it [18:25, 22.50s/it]\u001b[A\n",
      "49it [18:48, 22.47s/it]\u001b[A\n",
      "50it [19:12, 22.95s/it]\u001b[A"
     ]
    },
    {
     "name": "stdout",
     "output_type": "stream",
     "text": [
      "create new ../data/bkp_hourly/bkp114t.csv\n"
     ]
    },
    {
     "name": "stderr",
     "output_type": "stream",
     "text": [
      "\n",
      "51it [19:38, 23.79s/it]\u001b[A"
     ]
    },
    {
     "name": "stdout",
     "output_type": "stream",
     "text": [
      "create new ../data/bkp_hourly/bkp115t.csv\n"
     ]
    },
    {
     "name": "stderr",
     "output_type": "stream",
     "text": [
      "\n",
      "52it [20:02, 24.08s/it]\u001b[A"
     ]
    },
    {
     "name": "stdout",
     "output_type": "stream",
     "text": [
      "create new ../data/bkp_hourly/bkp116t.csv\n"
     ]
    },
    {
     "name": "stderr",
     "output_type": "stream",
     "text": [
      "\n",
      "53it [20:27, 24.23s/it]\u001b[A"
     ]
    },
    {
     "name": "stdout",
     "output_type": "stream",
     "text": [
      "create new ../data/bkp_hourly/bkp117t.csv\n"
     ]
    },
    {
     "name": "stderr",
     "output_type": "stream",
     "text": [
      "\n",
      "54it [20:51, 24.03s/it]\u001b[A"
     ]
    },
    {
     "name": "stdout",
     "output_type": "stream",
     "text": [
      "create new ../data/bkp_hourly/bkp118t.csv\n"
     ]
    },
    {
     "name": "stderr",
     "output_type": "stream",
     "text": [
      "\n",
      "55it [21:15, 24.12s/it]\u001b[A"
     ]
    },
    {
     "name": "stdout",
     "output_type": "stream",
     "text": [
      "create new ../data/bkp_hourly/bkp119t.csv\n"
     ]
    },
    {
     "name": "stderr",
     "output_type": "stream",
     "text": [
      "\n",
      "56it [21:40, 24.51s/it]\u001b[A"
     ]
    },
    {
     "name": "stdout",
     "output_type": "stream",
     "text": [
      "create new ../data/bkp_hourly/bkp120t.csv\n"
     ]
    },
    {
     "name": "stderr",
     "output_type": "stream",
     "text": [
      "\n",
      "57it [22:05, 24.42s/it]\u001b[A"
     ]
    },
    {
     "name": "stdout",
     "output_type": "stream",
     "text": [
      "create new ../data/bkp_hourly/bkp121t.csv\n"
     ]
    },
    {
     "name": "stderr",
     "output_type": "stream",
     "text": [
      "\n",
      "58it [22:28, 24.19s/it]\u001b[A"
     ]
    },
    {
     "name": "stdout",
     "output_type": "stream",
     "text": [
      "create new ../data/bkp_hourly/bkp122t.csv\n"
     ]
    },
    {
     "name": "stderr",
     "output_type": "stream",
     "text": [
      "\n",
      "59it [22:59, 26.06s/it]\u001b[A"
     ]
    },
    {
     "name": "stdout",
     "output_type": "stream",
     "text": [
      "create new ../data/bkp_hourly/bkp123t.csv\n"
     ]
    },
    {
     "name": "stderr",
     "output_type": "stream",
     "text": [
      "\n",
      "60it [23:23, 25.41s/it]\u001b[A"
     ]
    },
    {
     "name": "stdout",
     "output_type": "stream",
     "text": [
      "create new ../data/bkp_hourly/bkp124t.csv\n"
     ]
    },
    {
     "name": "stderr",
     "output_type": "stream",
     "text": [
      "\n",
      "61it [23:46, 24.85s/it]\u001b[A"
     ]
    },
    {
     "name": "stdout",
     "output_type": "stream",
     "text": [
      "create new ../data/bkp_hourly/bkp125t.csv\n"
     ]
    },
    {
     "name": "stderr",
     "output_type": "stream",
     "text": [
      "\n",
      "62it [24:10, 24.73s/it]\u001b[A"
     ]
    },
    {
     "name": "stdout",
     "output_type": "stream",
     "text": [
      "create new ../data/bkp_hourly/bkp126t.csv\n"
     ]
    },
    {
     "name": "stderr",
     "output_type": "stream",
     "text": [
      "\n",
      "63it [24:35, 24.54s/it]\u001b[A"
     ]
    },
    {
     "name": "stdout",
     "output_type": "stream",
     "text": [
      "create new ../data/bkp_hourly/bkp127t.csv\n"
     ]
    },
    {
     "name": "stderr",
     "output_type": "stream",
     "text": [
      "\n",
      "64it [24:59, 24.55s/it]\u001b[A"
     ]
    },
    {
     "name": "stdout",
     "output_type": "stream",
     "text": [
      "create new ../data/bkp_hourly/bkp128t.csv\n"
     ]
    },
    {
     "name": "stderr",
     "output_type": "stream",
     "text": [
      "\n",
      "65it [25:23, 24.25s/it]\u001b[A"
     ]
    },
    {
     "name": "stdout",
     "output_type": "stream",
     "text": [
      "create new ../data/bkp_hourly/bkp129t.csv\n"
     ]
    },
    {
     "name": "stderr",
     "output_type": "stream",
     "text": [
      "\n",
      "66it [25:46, 24.06s/it]\u001b[A"
     ]
    },
    {
     "name": "stdout",
     "output_type": "stream",
     "text": [
      "create new ../data/bkp_hourly/bkp130t.csv\n"
     ]
    },
    {
     "name": "stderr",
     "output_type": "stream",
     "text": [
      "\n",
      "67it [26:11, 24.27s/it]\u001b[A"
     ]
    },
    {
     "name": "stdout",
     "output_type": "stream",
     "text": [
      "create new ../data/bkp_hourly/bkp131t.csv\n"
     ]
    },
    {
     "name": "stderr",
     "output_type": "stream",
     "text": [
      "\n",
      "68it [26:35, 24.26s/it]\u001b[A"
     ]
    },
    {
     "name": "stdout",
     "output_type": "stream",
     "text": [
      "create new ../data/bkp_hourly/bkp132t.csv\n"
     ]
    },
    {
     "name": "stderr",
     "output_type": "stream",
     "text": [
      "\n",
      "69it [26:59, 24.09s/it]\u001b[A"
     ]
    },
    {
     "name": "stdout",
     "output_type": "stream",
     "text": [
      "create new ../data/bkp_hourly/bkp133t.csv\n"
     ]
    },
    {
     "name": "stderr",
     "output_type": "stream",
     "text": [
      "\n",
      "70it [27:37, 28.15s/it]\u001b[A"
     ]
    },
    {
     "name": "stdout",
     "output_type": "stream",
     "text": [
      "create new ../data/bkp_hourly/bkp110t.csv\n"
     ]
    },
    {
     "name": "stderr",
     "output_type": "stream",
     "text": [
      "\n",
      "71it [28:04, 28.03s/it]\u001b[A"
     ]
    },
    {
     "name": "stdout",
     "output_type": "stream",
     "text": [
      "create new ../data/bkp_hourly/bkp111t.csv\n"
     ]
    },
    {
     "name": "stderr",
     "output_type": "stream",
     "text": [
      "\n",
      "72it [28:34, 28.61s/it]\u001b[A"
     ]
    },
    {
     "name": "stdout",
     "output_type": "stream",
     "text": [
      "create new ../data/bkp_hourly/bkp112t.csv\n"
     ]
    },
    {
     "name": "stderr",
     "output_type": "stream",
     "text": [
      "\n",
      "73it [28:57, 23.80s/it]\u001b[A\n"
     ]
    }
   ],
   "source": [
    "sta_selector_list, station_name_list = update_bkp()"
   ]
  },
  {
   "cell_type": "code",
   "execution_count": 170,
   "metadata": {},
   "outputs": [],
   "source": [
    "browser = webdriver.Firefox()"
   ]
  },
  {
   "cell_type": "code",
   "execution_count": 168,
   "metadata": {},
   "outputs": [
    {
     "data": {
      "text/plain": [
       "'78 บริเวณศาลาว่าการกรุงเทพมหานคร(เสาชิงช้า) เขตพระนคร'"
      ]
     },
     "execution_count": 168,
     "metadata": {},
     "output_type": "execute_result"
    }
   ],
   "source": [
    "station_name_list[-1]"
   ]
  },
  {
   "cell_type": "code",
   "execution_count": 194,
   "metadata": {},
   "outputs": [
    {
     "name": "stdout",
     "output_type": "stream",
     "text": [
      "create new ../data/bkp_hourly/bkp113t.csv\n"
     ]
    }
   ],
   "source": [
    "url = 'https://bangkokairquality.com/bma/report?lang=th'\n",
    "data_folder = '../data/bkp_hourly/'\n",
    "data = get_bkp_station_data_save(url, browser, sta_selector_list[-1], station_name_list[-1], data_folder )"
   ]
  },
  {
   "cell_type": "code",
   "execution_count": 192,
   "metadata": {},
   "outputs": [],
   "source": [
    "data = extract_bpk_data(browser)"
   ]
  },
  {
   "cell_type": "code",
   "execution_count": 193,
   "metadata": {},
   "outputs": [
    {
     "data": {
      "text/plain": [
       "(3249, 7)"
      ]
     },
     "execution_count": 193,
     "metadata": {},
     "output_type": "execute_result"
    }
   ],
   "source": [
    "data.shape"
   ]
  },
  {
   "cell_type": "code",
   "execution_count": 177,
   "metadata": {},
   "outputs": [
    {
     "ename": "IndexError",
     "evalue": "list index out of range",
     "output_type": "error",
     "traceback": [
      "\u001b[1;31m---------------------------------------------------------------------------\u001b[0m",
      "\u001b[1;31mIndexError\u001b[0m                                Traceback (most recent call last)",
      "\u001b[1;32m<ipython-input-177-660e27cca72d>\u001b[0m in \u001b[0;36m<module>\u001b[1;34m\u001b[0m\n\u001b[1;32m----> 1\u001b[1;33m \u001b[0mnum_click_nodes\u001b[0m \u001b[1;33m=\u001b[0m \u001b[0msoup\u001b[0m\u001b[1;33m.\u001b[0m\u001b[0mfind_all\u001b[0m\u001b[1;33m(\u001b[0m\u001b[0mattrs\u001b[0m\u001b[1;33m=\u001b[0m\u001b[1;33m{\u001b[0m\u001b[1;34m'class'\u001b[0m\u001b[1;33m:\u001b[0m \u001b[1;34m\"paginate_button\"\u001b[0m\u001b[1;33m}\u001b[0m\u001b[1;33m)\u001b[0m\u001b[1;33m[\u001b[0m\u001b[1;33m-\u001b[0m\u001b[1;36m2\u001b[0m\u001b[1;33m]\u001b[0m\u001b[1;33m\u001b[0m\u001b[1;33m\u001b[0m\u001b[0m\n\u001b[0m\u001b[0;32m      2\u001b[0m \u001b[0mprint\u001b[0m\u001b[1;33m(\u001b[0m\u001b[0mnum_click_nodes\u001b[0m\u001b[1;33m)\u001b[0m\u001b[1;33m\u001b[0m\u001b[1;33m\u001b[0m\u001b[0m\n",
      "\u001b[1;31mIndexError\u001b[0m: list index out of range"
     ]
    }
   ],
   "source": [
    "num_click_nodes = soup.find_all(attrs={'class': \"paginate_button\"})[-2]\n",
    "print(num_click_nodes)"
   ]
  },
  {
   "cell_type": "code",
   "execution_count": 173,
   "metadata": {},
   "outputs": [],
   "source": [
    "# extract table from page\n",
    "page = browser.page_source\n",
    "soup = BeautifulSoup(page, features=\"lxml\")\n",
    "df = pd.read_html(str(soup))[-1]"
   ]
  },
  {
   "cell_type": "code",
   "execution_count": 174,
   "metadata": {},
   "outputs": [
    {
     "data": {
      "text/html": [
       "<div>\n",
       "<style scoped>\n",
       "    .dataframe tbody tr th:only-of-type {\n",
       "        vertical-align: middle;\n",
       "    }\n",
       "\n",
       "    .dataframe tbody tr th {\n",
       "        vertical-align: top;\n",
       "    }\n",
       "\n",
       "    .dataframe thead th {\n",
       "        text-align: right;\n",
       "    }\n",
       "</style>\n",
       "<table border=\"1\" class=\"dataframe\">\n",
       "  <thead>\n",
       "    <tr style=\"text-align: right;\">\n",
       "      <th></th>\n",
       "      <th>Datetime</th>\n",
       "      <th>PM2.5(ug/m3)</th>\n",
       "      <th>Temp(Deg.C)</th>\n",
       "      <th>RH(%)</th>\n",
       "      <th>BP(mBar)</th>\n",
       "      <th>Unnamed: 5</th>\n",
       "      <th>Unnamed: 6</th>\n",
       "    </tr>\n",
       "  </thead>\n",
       "  <tbody>\n",
       "    <tr>\n",
       "      <th>0</th>\n",
       "      <td>2020-07-29 12:00:00</td>\n",
       "      <td>-9999</td>\n",
       "      <td>36.0</td>\n",
       "      <td>51.0</td>\n",
       "      <td>756.0</td>\n",
       "      <td>NaN</td>\n",
       "      <td>NaN</td>\n",
       "    </tr>\n",
       "    <tr>\n",
       "      <th>1</th>\n",
       "      <td>2020-07-29 13:00:00</td>\n",
       "      <td>16</td>\n",
       "      <td>37.0</td>\n",
       "      <td>50.0</td>\n",
       "      <td>756.0</td>\n",
       "      <td>NaN</td>\n",
       "      <td>NaN</td>\n",
       "    </tr>\n",
       "    <tr>\n",
       "      <th>2</th>\n",
       "      <td>2020-07-29 14:00:00</td>\n",
       "      <td>11</td>\n",
       "      <td>38.0</td>\n",
       "      <td>47.0</td>\n",
       "      <td>755.0</td>\n",
       "      <td>NaN</td>\n",
       "      <td>NaN</td>\n",
       "    </tr>\n",
       "    <tr>\n",
       "      <th>3</th>\n",
       "      <td>2020-07-29 15:00:00</td>\n",
       "      <td>17</td>\n",
       "      <td>38.0</td>\n",
       "      <td>48.0</td>\n",
       "      <td>754.0</td>\n",
       "      <td>NaN</td>\n",
       "      <td>NaN</td>\n",
       "    </tr>\n",
       "    <tr>\n",
       "      <th>4</th>\n",
       "      <td>2020-07-29 16:00:00</td>\n",
       "      <td>25</td>\n",
       "      <td>38.0</td>\n",
       "      <td>47.0</td>\n",
       "      <td>754.0</td>\n",
       "      <td>NaN</td>\n",
       "      <td>NaN</td>\n",
       "    </tr>\n",
       "  </tbody>\n",
       "</table>\n",
       "</div>"
      ],
      "text/plain": [
       "              Datetime  PM2.5(ug/m3)  Temp(Deg.C)  RH(%)  BP(mBar)  \\\n",
       "0  2020-07-29 12:00:00         -9999         36.0   51.0     756.0   \n",
       "1  2020-07-29 13:00:00            16         37.0   50.0     756.0   \n",
       "2  2020-07-29 14:00:00            11         38.0   47.0     755.0   \n",
       "3  2020-07-29 15:00:00            17         38.0   48.0     754.0   \n",
       "4  2020-07-29 16:00:00            25         38.0   47.0     754.0   \n",
       "\n",
       "   Unnamed: 5  Unnamed: 6  \n",
       "0         NaN         NaN  \n",
       "1         NaN         NaN  \n",
       "2         NaN         NaN  \n",
       "3         NaN         NaN  \n",
       "4         NaN         NaN  "
      ]
     },
     "execution_count": 174,
     "metadata": {},
     "output_type": "execute_result"
    }
   ],
   "source": [
    "df.head()"
   ]
  },
  {
   "cell_type": "code",
   "execution_count": 161,
   "metadata": {},
   "outputs": [],
   "source": [
    "data = data.set_index('datetime')"
   ]
  },
  {
   "cell_type": "code",
   "execution_count": 163,
   "metadata": {},
   "outputs": [],
   "source": [
    "# remove negative number\n",
    "for col in data.columns:\n",
    "    data[col][data[col] < 0] = np.nan"
   ]
  },
  {
   "cell_type": "code",
   "execution_count": 144,
   "metadata": {},
   "outputs": [
    {
     "data": {
      "text/plain": [
       "Index(['PM10', 'PM2.5', 'CO', 'NO2', 'NO', 'NOX', 'station_id',\n",
       "       'station_name'],\n",
       "      dtype='object')"
      ]
     },
     "execution_count": 144,
     "metadata": {},
     "output_type": "execute_result"
    }
   ],
   "source": [
    "data.columns"
   ]
  },
  {
   "cell_type": "code",
   "execution_count": 149,
   "metadata": {},
   "outputs": [
    {
     "data": {
      "text/html": [
       "<div>\n",
       "<style scoped>\n",
       "    .dataframe tbody tr th:only-of-type {\n",
       "        vertical-align: middle;\n",
       "    }\n",
       "\n",
       "    .dataframe tbody tr th {\n",
       "        vertical-align: top;\n",
       "    }\n",
       "\n",
       "    .dataframe thead th {\n",
       "        text-align: right;\n",
       "    }\n",
       "</style>\n",
       "<table border=\"1\" class=\"dataframe\">\n",
       "  <thead>\n",
       "    <tr style=\"text-align: right;\">\n",
       "      <th></th>\n",
       "      <th>PM10</th>\n",
       "      <th>PM2.5</th>\n",
       "      <th>CO</th>\n",
       "      <th>NO2</th>\n",
       "      <th>NO</th>\n",
       "      <th>NOX</th>\n",
       "      <th>station_id</th>\n",
       "      <th>station_name</th>\n",
       "    </tr>\n",
       "    <tr>\n",
       "      <th>datetime</th>\n",
       "      <th></th>\n",
       "      <th></th>\n",
       "      <th></th>\n",
       "      <th></th>\n",
       "      <th></th>\n",
       "      <th></th>\n",
       "      <th></th>\n",
       "      <th></th>\n",
       "    </tr>\n",
       "  </thead>\n",
       "  <tbody>\n",
       "    <tr>\n",
       "      <th>2020-01-13 01:00:00</th>\n",
       "      <td>45</td>\n",
       "      <td>26.0</td>\n",
       "      <td>1.0</td>\n",
       "      <td>16.0</td>\n",
       "      <td>1.0</td>\n",
       "      <td>17.0</td>\n",
       "      <td>59</td>\n",
       "      <td>4 เขตราชเทวี</td>\n",
       "    </tr>\n",
       "    <tr>\n",
       "      <th>2020-01-13 02:00:00</th>\n",
       "      <td>47</td>\n",
       "      <td>14.0</td>\n",
       "      <td>1.0</td>\n",
       "      <td>15.0</td>\n",
       "      <td>3.0</td>\n",
       "      <td>17.0</td>\n",
       "      <td>59</td>\n",
       "      <td>4 เขตราชเทวี</td>\n",
       "    </tr>\n",
       "    <tr>\n",
       "      <th>2020-01-13 03:00:00</th>\n",
       "      <td>55</td>\n",
       "      <td>11.0</td>\n",
       "      <td>1.0</td>\n",
       "      <td>11.0</td>\n",
       "      <td>2.0</td>\n",
       "      <td>13.0</td>\n",
       "      <td>59</td>\n",
       "      <td>4 เขตราชเทวี</td>\n",
       "    </tr>\n",
       "    <tr>\n",
       "      <th>2020-01-13 04:00:00</th>\n",
       "      <td>39</td>\n",
       "      <td>13.0</td>\n",
       "      <td>1.0</td>\n",
       "      <td>8.0</td>\n",
       "      <td>149.0</td>\n",
       "      <td>158.0</td>\n",
       "      <td>59</td>\n",
       "      <td>4 เขตราชเทวี</td>\n",
       "    </tr>\n",
       "    <tr>\n",
       "      <th>2020-01-13 05:00:00</th>\n",
       "      <td>32</td>\n",
       "      <td>15.0</td>\n",
       "      <td>1.0</td>\n",
       "      <td>13.0</td>\n",
       "      <td>3.0</td>\n",
       "      <td>17.0</td>\n",
       "      <td>59</td>\n",
       "      <td>4 เขตราชเทวี</td>\n",
       "    </tr>\n",
       "  </tbody>\n",
       "</table>\n",
       "</div>"
      ],
      "text/plain": [
       "                     PM10  PM2.5   CO   NO2     NO    NOX station_id  \\\n",
       "datetime                                                               \n",
       "2020-01-13 01:00:00    45   26.0  1.0  16.0    1.0   17.0         59   \n",
       "2020-01-13 02:00:00    47   14.0  1.0  15.0    3.0   17.0         59   \n",
       "2020-01-13 03:00:00    55   11.0  1.0  11.0    2.0   13.0         59   \n",
       "2020-01-13 04:00:00    39   13.0  1.0   8.0  149.0  158.0         59   \n",
       "2020-01-13 05:00:00    32   15.0  1.0  13.0    3.0   17.0         59   \n",
       "\n",
       "                     station_name  \n",
       "datetime                           \n",
       "2020-01-13 01:00:00  4 เขตราชเทวี  \n",
       "2020-01-13 02:00:00  4 เขตราชเทวี  \n",
       "2020-01-13 03:00:00  4 เขตราชเทวี  \n",
       "2020-01-13 04:00:00  4 เขตราชเทวี  \n",
       "2020-01-13 05:00:00  4 เขตราชเทวี  "
      ]
     },
     "execution_count": 149,
     "metadata": {},
     "output_type": "execute_result"
    }
   ],
   "source": [
    "data.head()"
   ]
  },
  {
   "cell_type": "code",
   "execution_count": 153,
   "metadata": {},
   "outputs": [],
   "source": [
    " data = data.replace('-9999', np.nan)"
   ]
  },
  {
   "cell_type": "code",
   "execution_count": 156,
   "metadata": {},
   "outputs": [
    {
     "data": {
      "text/html": [
       "<div>\n",
       "<style scoped>\n",
       "    .dataframe tbody tr th:only-of-type {\n",
       "        vertical-align: middle;\n",
       "    }\n",
       "\n",
       "    .dataframe tbody tr th {\n",
       "        vertical-align: top;\n",
       "    }\n",
       "\n",
       "    .dataframe thead th {\n",
       "        text-align: right;\n",
       "    }\n",
       "</style>\n",
       "<table border=\"1\" class=\"dataframe\">\n",
       "  <thead>\n",
       "    <tr style=\"text-align: right;\">\n",
       "      <th></th>\n",
       "      <th>PM10</th>\n",
       "      <th>PM2.5</th>\n",
       "      <th>CO</th>\n",
       "      <th>NO2</th>\n",
       "      <th>NO</th>\n",
       "      <th>NOX</th>\n",
       "      <th>station_id</th>\n",
       "      <th>station_name</th>\n",
       "    </tr>\n",
       "    <tr>\n",
       "      <th>datetime</th>\n",
       "      <th></th>\n",
       "      <th></th>\n",
       "      <th></th>\n",
       "      <th></th>\n",
       "      <th></th>\n",
       "      <th></th>\n",
       "      <th></th>\n",
       "      <th></th>\n",
       "    </tr>\n",
       "  </thead>\n",
       "  <tbody>\n",
       "  </tbody>\n",
       "</table>\n",
       "</div>"
      ],
      "text/plain": [
       "Empty DataFrame\n",
       "Columns: [PM10, PM2.5, CO, NO2, NO, NOX, station_id, station_name]\n",
       "Index: []"
      ]
     },
     "execution_count": 156,
     "metadata": {},
     "output_type": "execute_result"
    }
   ],
   "source": [
    "data['PM2.5'][data['PM2.5'] < 0]"
   ]
  },
  {
   "cell_type": "code",
   "execution_count": null,
   "metadata": {},
   "outputs": [],
   "source": [
    "data = {\"MeasIndex\": '56', \"timetype\": '1', \"date_from\": '23-12-2020', \"time_from\":'10:00', \"date_to\": '24-12-2020',\"time_to\":'10:00',\"lang\":\"th\",\"type\":\"table\" }\n",
    "\n",
    "x = requests.post('http://enviinfo.cem.gov.vn/',data)\n",
    "\n",
    "\n",
    "print(x.text)"
   ]
  }
 ],
 "metadata": {
  "kernelspec": {
   "display_name": "Python 3",
   "language": "python",
   "name": "python3"
  },
  "language_info": {
   "codemirror_mode": {
    "name": "ipython",
    "version": 3
   },
   "file_extension": ".py",
   "mimetype": "text/x-python",
   "name": "python",
   "nbconvert_exporter": "python",
   "pygments_lexer": "ipython3",
   "version": "3.7.5"
  },
  "toc": {
   "base_numbering": 1,
   "nav_menu": {},
   "number_sections": true,
   "sideBar": true,
   "skip_h1_title": false,
   "title_cell": "Table of Contents",
   "title_sidebar": "Contents",
   "toc_cell": false,
   "toc_position": {},
   "toc_section_display": true,
   "toc_window_display": false
  }
 },
 "nbformat": 4,
 "nbformat_minor": 4
}
