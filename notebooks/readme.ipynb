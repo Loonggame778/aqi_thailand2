{
 "cells": [
  {
   "cell_type": "markdown",
   "metadata": {
    "toc": true
   },
   "source": [
    "<h1>Table of Contents<span class=\"tocSkip\"></span></h1>\n",
    "<div class=\"toc\"><ul class=\"toc-item\"><li><span><a href=\"#Model-Air-Pollution-Thailand-and-South-East-Asian-Countries\" data-toc-modified-id=\"Model-Air-Pollution-Thailand-and-South-East-Asian-Countries-1\"><span class=\"toc-item-num\">1&nbsp;&nbsp;</span>Model Air Pollution Thailand and South East Asian Countries</a></span></li><li><span><a href=\"#Requirements\" data-toc-modified-id=\"Requirements-2\"><span class=\"toc-item-num\">2&nbsp;&nbsp;</span>Requirements</a></span></li><li><span><a href=\"#Directory-Tree\" data-toc-modified-id=\"Directory-Tree-3\"><span class=\"toc-item-num\">3&nbsp;&nbsp;</span>Directory Tree</a></span></li><li><span><a href=\"#Data-Sources\" data-toc-modified-id=\"Data-Sources-4\"><span class=\"toc-item-num\">4&nbsp;&nbsp;</span>Data Sources</a></span><ul class=\"toc-item\"><li><span><a href=\"#Pollution-Data\" data-toc-modified-id=\"Pollution-Data-4.1\"><span class=\"toc-item-num\">4.1&nbsp;&nbsp;</span>Pollution Data</a></span></li><li><span><a href=\"#Weather-Data\" data-toc-modified-id=\"Weather-Data-4.2\"><span class=\"toc-item-num\">4.2&nbsp;&nbsp;</span>Weather Data</a></span></li><li><span><a href=\"#Hotspot-Data\" data-toc-modified-id=\"Hotspot-Data-4.3\"><span class=\"toc-item-num\">4.3&nbsp;&nbsp;</span>Hotspot Data</a></span></li></ul></li><li><span><a href=\"#AQI-Convention\" data-toc-modified-id=\"AQI-Convention-5\"><span class=\"toc-item-num\">5&nbsp;&nbsp;</span>AQI Convention</a></span></li><li><span><a href=\"#Modeling-Air-Pollution-in-Chiang-Mai-Data-:-A-Case-Study\" data-toc-modified-id=\"Modeling-Air-Pollution-in-Chiang-Mai-Data-:-A-Case-Study-6\"><span class=\"toc-item-num\">6&nbsp;&nbsp;</span>Modeling Air Pollution in Chiang Mai Data : A Case Study</a></span><ul class=\"toc-item\"><li><span><a href=\"#Casual-Diagram\" data-toc-modified-id=\"Casual-Diagram-6.1\"><span class=\"toc-item-num\">6.1&nbsp;&nbsp;</span>Casual Diagram</a></span></li><li><span><a href=\"#A-Dataset-Object\" data-toc-modified-id=\"A-Dataset-Object-6.2\"><span class=\"toc-item-num\">6.2&nbsp;&nbsp;</span>A Dataset Object</a></span></li><li><span><a href=\"#Exploratory-Data-Analysis\" data-toc-modified-id=\"Exploratory-Data-Analysis-6.3\"><span class=\"toc-item-num\">6.3&nbsp;&nbsp;</span>Exploratory Data Analysis</a></span><ul class=\"toc-item\"><li><span><a href=\"#Geography\" data-toc-modified-id=\"Geography-6.3.1\"><span class=\"toc-item-num\">6.3.1&nbsp;&nbsp;</span>Geography</a></span></li></ul></li></ul></li><li><span><a href=\"#Machine-Learning-Model\" data-toc-modified-id=\"Machine-Learning-Model-7\"><span class=\"toc-item-num\">7&nbsp;&nbsp;</span>Machine Learning Model</a></span><ul class=\"toc-item\"><li><span><a href=\"#Training\" data-toc-modified-id=\"Training-7.1\"><span class=\"toc-item-num\">7.1&nbsp;&nbsp;</span>Training</a></span></li><li><span><a href=\"#Model-Performance\" data-toc-modified-id=\"Model-Performance-7.2\"><span class=\"toc-item-num\">7.2&nbsp;&nbsp;</span>Model Performance</a></span></li></ul></li></ul></div>"
   ]
  },
  {
   "cell_type": "markdown",
   "metadata": {},
   "source": [
    "# Model Air Pollution Thailand and South East Asian Countries"
   ]
  },
  {
   "cell_type": "markdown",
   "metadata": {},
   "source": [
    "This project aims to use a machine learning model predict and identify sources of the air pollution South East Asian cities. Because this is a multi-variables problem with complex interaction among features, and time-lag, a machine learning approch has an advantage over a traditional approach. Here, random forest regressor(RF) is used to model a small particle pollution(PM2.5) level. After trying searching various machine learning model, I found that RF perform the best. In addition, the model can be easily interpreted. The model's feature of importances in combination data exploration helps identify the major sources of air pollution. In addition, I will use the model to simulate the pollution level when an environmental policies are implemented. I use Chiang Mai as a case study, but the codes works with other cities such as Bangkok, and Hanoi (Given there are enough data, of course!)"
   ]
  },
  {
   "cell_type": "markdown",
   "metadata": {
    "heading_collapsed": true
   },
   "source": [
    "# Requirements"
   ]
  },
  {
   "cell_type": "markdown",
   "metadata": {
    "hidden": true
   },
   "source": [
    "numpy==1.18.1<br>\n",
    "matplotlib==3.1.2<br>\n",
    "pandas==1.0.0<br>\n",
    "geopandas==0.6.2<br>\n",
    "scikit_optimize==0.7.4 <br>\n",
    "scikit_learn==0.23.2<br>\n",
    "TPOT==0.11.5<br>\n",
    "statsmodels==0.11.1<br>\n",
    "scipy==1.4.1<br>\n",
    "seaborn==0.10.0<br>\n",
    "joblib==0.14.1<br>\n",
    "tqdm==4.43.0<br>\n",
    "Shapely==1.7.0<br>\n",
    "pyproj==2.4.2.post1<br>\n",
    "Fiona==1.8.13<br>\n",
    "bokeh==2.1.1<br>\n",
    "selenium==3.141.0 <br>\n",
    "wget==3.2<br>\n",
    "beautifulsoup4==4.9.1<br>\n",
    "requests==2.22.0<br>\n",
    "swifter==1.0.3<br>\n",
    "Sphinx>=1.6.0<br>"
   ]
  },
  {
   "cell_type": "markdown",
   "metadata": {
    "heading_collapsed": true
   },
   "source": [
    "# Directory Tree"
   ]
  },
  {
   "cell_type": "markdown",
   "metadata": {
    "hidden": true
   },
   "source": [
    "<pre>\n",
    "├── README.md   \n",
    "├── requirements.txt : generated by pipreqs\n",
    "├── data : raw data and processed data for each cities. Please see the data section for details about how to obtains the raw data\n",
    "├── docs._build.html : code documentations generated by Sphinx \n",
    "├── models : each subfolder contains a model for a each city.  \n",
    "│   ├──  chiang_mai : contains random forest models for Chiang Mai and model meta file containing setting\n",
    "│   └── bangkok   \n",
    "├── reports : plots for each city \n",
    "│   ├── chiang_mai : data and model visualizations for Chiang Mai\n",
    "│   └── bangkok   \n",
    "├── notebooks   \n",
    "│   ├── 1_pollutions_data.ipynb : \n",
    "│   ├── 1.1_vn_power_plants.ipynb : \n",
    "│   ├── 2_analyze_pollution_data.ipynb : \n",
    "│   ├── 5.0-ML_Chiang_mai.ipynb : \n",
    "│   ├── 6.0_vis_ChiangMai.ipynb : \n",
    "│   ├── 6.1_BKK.ipynb : \n",
    "│   ├── 6.2_vis_Jarkata.ipynb : \n",
    "│   ├── 6.3_Hanoi.ipynb : \n",
    "│   └── 7_prediction.ipynb : \n",
    "│   \n",
    "└── src : the source codes are meant to be ran as a module not as .py (except for vn_data.py) \n",
    "    ├── imports.py : \n",
    "    ├── gen_functions.py : general purpose functions such as color setting, AQI conversion and coordinate Conversion\n",
    "    ├── data : download and preprocess data \n",
    "    │   ├── download_data.py :  download pollution data from various sources \n",
    "    │   ├── read_data.py :  read pollution data \n",
    "    │   ├── vn_data.py : scrape pollution data from Vietnamese EPA\n",
    "    │   ├── weather_data.py : scrape, process and load weather data\n",
    "    │   └── fire_data.py : process and load hotspots data\n",
    "    │     \n",
    "    ├── features   \n",
    "    │   ├── build_features.py : \n",
    "    │   └── dataset.py : Dataset object is responsible for putting raw data together, \n",
    "    │                    feature engineering and preparing matricies for machine learning models. \n",
    "    │                    Call read_data.py when loading data\n",
    "    │                    Call build_features.py for feature engineering functions \n",
    "    ├── models   \n",
    "    │   ├── train_model.py :  model builder and hyperparameter searcher\n",
    "    │   └── predict_model.py : load model and perform statistical simulations\n",
    "    │   \n",
    "    └── visualization  \n",
    "        ├── vis_data.py : create plots for data exploration steps   \n",
    "        └── vis_model.py : create plots for visualizing model performance and simulation \n",
    "</pre>"
   ]
  },
  {
   "cell_type": "markdown",
   "metadata": {},
   "source": [
    "# Data Sources"
   ]
  },
  {
   "cell_type": "markdown",
   "metadata": {},
   "source": [
    "## Pollution Data\n",
    " - [Thailand Pollution Department](http://air4thai.pcd.go.th/webV2/) Data only go back 2 months! so need to run scapper once a month using `src.data.download_data.update_last_air4Thai()` . Once can also writes a letter to ask for historical data directly. The request took about a month to process. The data has to be parsed from their excel files.  \n",
    " - [Vietnamese Pollution Department](http://enviinfo.cem.gov.vn/) Pollution data for major cities such as Hanoi. Data only go back 24 hours, so need to run scapper once a day. This is done using using `src.data.vn_data.download_vn_data()`\n",
    " - [Berkeley project](http://berkeleyearth.org/) provides historical PM2.5 data back until late 2016 \n",
    " - [US Embassy](http://dosairnowdata.org/dos/historical/) US embassy in some cities collect PM2.5 data. Use `src.data.download_data.download_us_emb_data()` to download data. \n",
    " - [Chiang Mai University Monitoring Stations](https://www.cmuccdc.org/) provides data from the University monitoring stations in the northern part of Thailand. Use `src.data.download_data..download_cdc_data()` to download this data.  \n",
    " - [The World Air\n",
    "Quality Project](https://aqicn.org/) has pollutions data from many cities, but only provide daily average data  \n",
    "\n",
    "## Weather Data \n",
    "\n",
    "Weather data is from two sources. \n",
    "\n",
    "- [OpenWeathermap](https://openweathermap.org/history) provides a bulk historial data to purchase. The data is processed using `src.data.weather_data.proc_open_weather()`\n",
    "- Additional weather data is constantly scraped from [Weather Underground)(https://www.wunderground.com/) `src.data.weather_data.update_weather()` \n",
    "\n",
    "Both the pollution data and weather data are can be downloaded using one single command `src.data.download_data.main()`\n",
    "\n",
    "\n",
    "## Hotspot Data \n",
    "\n",
    "Satellite data showing location of burning activities(hotspots) from NASA https://firms.modaps.eosdis.nasa.gov/download/. There are three data product. This study uses MODIS Collection 6 data because of the data available for a longer period that other products."
   ]
  },
  {
   "cell_type": "markdown",
   "metadata": {},
   "source": [
    "# AQI Convention"
   ]
  },
  {
   "cell_type": "markdown",
   "metadata": {},
   "source": [
    "Countries have different standards, which convert the raw polution readings into air quality index(AQI) and interpret the harmful levels. The maximum AQIs for each pollutants (PM2.5, Pm10, SO2 etc) is reported at a single AQI. The figure belows compare US and Thailand AQI. The standards are comparable except for SO$_2$, where the US has a stricker standard. This study use US AQI conversion standard for calculating AQI for different pollutants. For example, in the PM2.5 case \n",
    "- 0 - 50 AQI is in a healthy range. This corresponds to PM2.5 level between 0 - 12 $\\mu g/m^3$ (green). \n",
    "- 50 - 100 AQI is a moderate range, corresponding to PM2.5 12- 35.4  $\\mu g/m^3$ (orange)\n",
    "- 100 - 150 AQI is a unhealthy for sensitive group, corresponding to PM2.5 35.5- 55.4  $\\mu g/m^3$ (red)\n",
    "- 150 - 200 AQI is a unhealthy range, corresponding to PM2.5 55.5- 150.4  $\\mu g/m^3$ (red)\n",
    "\n",
    "For simplicity, the color code in this study groups the  100 - 150 and 150 - 200 as unhealthy range(red). "
   ]
  },
  {
   "cell_type": "code",
   "execution_count": 20,
   "metadata": {
    "scrolled": true
   },
   "outputs": [],
   "source": [
    "#  Load the \"autoreload\" extension so that code can change\n",
    "%reload_ext autoreload\n",
    "%autoreload 2\n",
    "import src"
   ]
  },
  {
   "cell_type": "code",
   "execution_count": null,
   "metadata": {},
   "outputs": [],
   "source": [
    "src.visualization.vis_data.compare_aqis(filename='../reports/chiang_mai/aqi.png')"
   ]
  },
  {
   "cell_type": "markdown",
   "metadata": {},
   "source": [
    "![png](https://github.com/worasom/aqi_thailand2/blob/master/reports/chiang_mai/aqi.png)"
   ]
  },
  {
   "cell_type": "markdown",
   "metadata": {},
   "source": [
    "#  Modeling Air Pollution in Chiang Mai Data : A Case Study"
   ]
  },
  {
   "cell_type": "markdown",
   "metadata": {},
   "source": [
    "## Casual Diagram"
   ]
  },
  {
   "cell_type": "markdown",
   "metadata": {},
   "source": [
    "There are four possible sources of air pollution: local traffic, power plants, industrial activities, and agricultural burning. For the latter three sources, the pollution is generated from the other provinces. In all of these sources, the local weather (temperature, humidity, and wind speed) decides how long the pollution stays in the air, and thus the pollution level. \n",
    "\n",
    "Since each pollution source results in different seasonal pollution patterns and chemical characteristics(chemical finger print), inspecting the pollutions data, weather, and several burning hotspots seen from the satellite images and the patterns could help identify or rule out air pollution contribution factors. This is done in [exploratory data analysis section](#Exploratory-Data-Analysis-6.2).\n"
   ]
  },
  {
   "cell_type": "markdown",
   "metadata": {},
   "source": [
    "<img src=\"https://github.com/worasom/aqi_thailand2/blob/master/reports/chiang_mai/casual_di.PNG\" width=\"500\"/>"
   ]
  },
  {
   "cell_type": "markdown",
   "metadata": {},
   "source": [
    "## A Dataset Object"
   ]
  },
  {
   "cell_type": "markdown",
   "metadata": {},
   "source": [
    "It is more convenience to have a `Dataset` object that keep tracks of all relavant data for a city along with necessary meta information such as city location etc. This is object is under `src.features.dataset.py`.\n",
    "\n",
    "The `Dataset` object is also in charge of compile raw pollution, weather, fire data from the data folder into a ready-to-use format. The processed data are saved under ../data/city_name/. The code below illustrates how to `Dataset` object compile the data using a build_all_data command."
   ]
  },
  {
   "cell_type": "code",
   "execution_count": null,
   "metadata": {},
   "outputs": [],
   "source": [
    "# init a dataset object and build the data from scratch \n",
    "# only perform this when new data files are added \n",
    "dataset = src.features.dataset.Dataset('Chiang Mai')\n",
    "\n",
    "# build pollution,  weather data and (optional) fire data\n",
    "dataset.build_all_data( build_fire=True, build_holiday=True)"
   ]
  },
  {
   "cell_type": "markdown",
   "metadata": {},
   "source": [
    "After the building process, which might take sometimes because of the size of the fire data (building the fire data is optional and can be set to false (`build_fire=False`). The complied data can be loaded using `_load()` command."
   ]
  },
  {
   "cell_type": "code",
   "execution_count": 22,
   "metadata": {},
   "outputs": [],
   "source": [
    "# reinit the data and load saved process data \n",
    "dataset = src.features.dataset.Dataset('Chiang Mai')\n",
    "dataset.load_()"
   ]
  },
  {
   "cell_type": "markdown",
   "metadata": {},
   "source": [
    "The hourly pollution data, weather data, and fire data are under `dataset.poll_df`, `dataset.wea` and `dataset.fire` attributes accordingly. Each data is a panda dataframe with datetime index. "
   ]
  },
  {
   "cell_type": "code",
   "execution_count": 48,
   "metadata": {},
   "outputs": [
    {
     "name": "stdout",
     "output_type": "stream",
     "text": [
      "| datetime            |   PM2.5 |   PM10 |   O3 |   CO |   NO2 |   SO2 |\n",
      "|:--------------------|--------:|-------:|-----:|-----:|------:|------:|\n",
      "| 2020-06-17 15:00:00 |     8.5 |   19.5 |   15 | 0.4  |     5 |     1 |\n",
      "| 2020-06-17 16:00:00 |     7.5 |   16.5 |   11 | 0.43 |     5 |     1 |\n"
     ]
    }
   ],
   "source": [
    "print(dataset.poll_df.tail(2).to_markdown())"
   ]
  },
  {
   "cell_type": "markdown",
   "metadata": {},
   "source": [
    "The weather data is under `wea` attribute"
   ]
  },
  {
   "cell_type": "markdown",
   "metadata": {},
   "source": [
    "Additionally the dataset also has city information under `city_info` attribute"
   ]
  },
  {
   "cell_type": "code",
   "execution_count": 27,
   "metadata": {},
   "outputs": [
    {
     "data": {
      "text/plain": [
       "{'Country': 'Thailand',\n",
       " 'City': 'Chiang Mai',\n",
       " 'City (ASCII)': 'Chiang Mai',\n",
       " 'Region': 'Chiang Mai',\n",
       " 'Region (ASCII)': 'Chiang Mai',\n",
       " 'Population': '200952',\n",
       " 'Latitude': '18.7904',\n",
       " 'Longitude': '98.9847',\n",
       " 'Time Zone': 'Asia/Bangkok',\n",
       " 'lat_km': 2117.0,\n",
       " 'long_km': 11019.0}"
      ]
     },
     "execution_count": 27,
     "metadata": {},
     "output_type": "execute_result"
    }
   ],
   "source": [
    "dataset.city_info"
   ]
  },
  {
   "cell_type": "markdown",
   "metadata": {},
   "source": [
    "## Exploratory Data Analysis"
   ]
  },
  {
   "cell_type": "markdown",
   "metadata": {},
   "source": [
    "The first step before any machine learning model is to understand the data. The file `src.visualization.vis_data.py` contains many useful functions for quick data visualization. Here, pollution data in Chiang Mai is used to illustrate visualization functions. "
   ]
  },
  {
   "cell_type": "markdown",
   "metadata": {},
   "source": [
    "### Geography"
   ]
  },
  {
   "cell_type": "markdown",
   "metadata": {},
   "source": [
    "It is important to understand the geography of the city. The picture belows show a map of Chiang Mai. It is a medium size surrounded by high mountains. Locations of the monitoring stations, near by industrial complex and power plants are also shown.\n",
    "\n",
    "I have two handy functions to convert logtitude, latitude coordinates to Mercator projection and vice versa. They are `src.gen_functions.merc_x`, `src.gen_functions.merc_y`, and `src.gen_functions.to_latlon`"
   ]
  },
  {
   "cell_type": "markdown",
   "metadata": {},
   "source": [
    "![map of Chiang Mai](https://github.com/worasom/aqi_thailand2/blob/master/reports/chiang_mai/cm_map.png)"
   ]
  },
  {
   "cell_type": "markdown",
   "metadata": {},
   "source": [
    "![different pollutants](https://github.com/worasom/aqi_thailand2/blob/master/reports/chiang_mai/all_pol_aqi.png)"
   ]
  },
  {
   "cell_type": "markdown",
   "metadata": {},
   "source": [
    "Seasonal patterns of PM2.5 level(top), number of hotspots within 1000 km from Chiang Mai(middle), and temperature(bottom). The shaded regions are 95% confident interval from different years. (top) the horizontal lines indicate the values corresponded to AQI 100 (moderate) and 150 (unhealthy) accordingly. The number of hotspots has a similar seasonal pattern as the PM2.5’s."
   ]
  },
  {
   "cell_type": "markdown",
   "metadata": {},
   "source": [
    "![seasonal pattern](https://github.com/worasom/aqi_thailand2/blob/master/reports/chiang_mai/fire_PM25_t_season.png)"
   ]
  },
  {
   "cell_type": "markdown",
   "metadata": {},
   "source": [
    "![seasonal pattern](https://github.com/worasom/aqi_thailand2/blob/master/reports/chiang_mai/fire_PM25_season.png)"
   ]
  },
  {
   "cell_type": "markdown",
   "metadata": {},
   "source": [
    "# Machine Learning Model"
   ]
  },
  {
   "cell_type": "markdown",
   "metadata": {},
   "source": [
    "## Training"
   ]
  },
  {
   "attachments": {},
   "cell_type": "markdown",
   "metadata": {},
   "source": [
    "Model Optimization breakdown into the following steps\n",
    "\n",
    "1. Build dataset using default fire parameter. Split the data into train, validation and test set. Optimize for a reasonable RandomForestRegressor model  \n",
    "2. Remove lower importance features from the model  \n",
    "3. Optimize for the best fire features\n",
    "4. Improve model performance by adding lag columns (of weather and fire)\n",
    "5. Remove lower importance lag columns \n",
    "6. Optimize for better model parameters again  \n",
    "7. Save model and model meta information \n",
    "\n",
    "These steps are carried out in a single line of code. The entire optimization tooks about 3 hours to complete in my computer."
   ]
  },
  {
   "cell_type": "code",
   "execution_count": null,
   "metadata": {},
   "outputs": [],
   "source": [
    "dataset, rf_model, model_meta = src.models.train_model.train_city_s1(city='Chiang Mai', pollutant='PM2.5')"
   ]
  },
  {
   "cell_type": "markdown",
   "metadata": {},
   "source": [
    "## Model Performance"
   ]
  },
  {
   "cell_type": "code",
   "execution_count": null,
   "metadata": {},
   "outputs": [],
   "source": []
  }
 ],
 "metadata": {
  "kernelspec": {
   "display_name": "Python 3",
   "language": "python",
   "name": "python3"
  },
  "language_info": {
   "codemirror_mode": {
    "name": "ipython",
    "version": 3
   },
   "file_extension": ".py",
   "mimetype": "text/x-python",
   "name": "python",
   "nbconvert_exporter": "python",
   "pygments_lexer": "ipython3",
   "version": "3.7.5"
  },
  "toc": {
   "base_numbering": 1,
   "nav_menu": {},
   "number_sections": true,
   "sideBar": true,
   "skip_h1_title": false,
   "title_cell": "Table of Contents",
   "title_sidebar": "Contents",
   "toc_cell": true,
   "toc_position": {
    "height": "calc(100% - 180px)",
    "left": "10px",
    "top": "150px",
    "width": "233.225px"
   },
   "toc_section_display": true,
   "toc_window_display": true
  }
 },
 "nbformat": 4,
 "nbformat_minor": 4
}
