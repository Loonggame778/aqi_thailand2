{
 "cells": [
  {
   "cell_type": "code",
   "execution_count": 1,
   "metadata": {},
   "outputs": [
    {
     "data": {
      "text/html": [
       "\n",
       "    <div class=\"bk-root\">\n",
       "        <a href=\"https://bokeh.org\" target=\"_blank\" class=\"bk-logo bk-logo-small bk-logo-notebook\"></a>\n",
       "        <span id=\"1001\">Loading BokehJS ...</span>\n",
       "    </div>"
      ]
     },
     "metadata": {},
     "output_type": "display_data"
    },
    {
     "data": {
      "application/javascript": [
       "\n",
       "(function(root) {\n",
       "  function now() {\n",
       "    return new Date();\n",
       "  }\n",
       "\n",
       "  var force = true;\n",
       "\n",
       "  if (typeof root._bokeh_onload_callbacks === \"undefined\" || force === true) {\n",
       "    root._bokeh_onload_callbacks = [];\n",
       "    root._bokeh_is_loading = undefined;\n",
       "  }\n",
       "\n",
       "  var JS_MIME_TYPE = 'application/javascript';\n",
       "  var HTML_MIME_TYPE = 'text/html';\n",
       "  var EXEC_MIME_TYPE = 'application/vnd.bokehjs_exec.v0+json';\n",
       "  var CLASS_NAME = 'output_bokeh rendered_html';\n",
       "\n",
       "  /**\n",
       "   * Render data to the DOM node\n",
       "   */\n",
       "  function render(props, node) {\n",
       "    var script = document.createElement(\"script\");\n",
       "    node.appendChild(script);\n",
       "  }\n",
       "\n",
       "  /**\n",
       "   * Handle when an output is cleared or removed\n",
       "   */\n",
       "  function handleClearOutput(event, handle) {\n",
       "    var cell = handle.cell;\n",
       "\n",
       "    var id = cell.output_area._bokeh_element_id;\n",
       "    var server_id = cell.output_area._bokeh_server_id;\n",
       "    // Clean up Bokeh references\n",
       "    if (id != null && id in Bokeh.index) {\n",
       "      Bokeh.index[id].model.document.clear();\n",
       "      delete Bokeh.index[id];\n",
       "    }\n",
       "\n",
       "    if (server_id !== undefined) {\n",
       "      // Clean up Bokeh references\n",
       "      var cmd = \"from bokeh.io.state import curstate; print(curstate().uuid_to_server['\" + server_id + \"'].get_sessions()[0].document.roots[0]._id)\";\n",
       "      cell.notebook.kernel.execute(cmd, {\n",
       "        iopub: {\n",
       "          output: function(msg) {\n",
       "            var id = msg.content.text.trim();\n",
       "            if (id in Bokeh.index) {\n",
       "              Bokeh.index[id].model.document.clear();\n",
       "              delete Bokeh.index[id];\n",
       "            }\n",
       "          }\n",
       "        }\n",
       "      });\n",
       "      // Destroy server and session\n",
       "      var cmd = \"import bokeh.io.notebook as ion; ion.destroy_server('\" + server_id + \"')\";\n",
       "      cell.notebook.kernel.execute(cmd);\n",
       "    }\n",
       "  }\n",
       "\n",
       "  /**\n",
       "   * Handle when a new output is added\n",
       "   */\n",
       "  function handleAddOutput(event, handle) {\n",
       "    var output_area = handle.output_area;\n",
       "    var output = handle.output;\n",
       "\n",
       "    // limit handleAddOutput to display_data with EXEC_MIME_TYPE content only\n",
       "    if ((output.output_type != \"display_data\") || (!output.data.hasOwnProperty(EXEC_MIME_TYPE))) {\n",
       "      return\n",
       "    }\n",
       "\n",
       "    var toinsert = output_area.element.find(\".\" + CLASS_NAME.split(' ')[0]);\n",
       "\n",
       "    if (output.metadata[EXEC_MIME_TYPE][\"id\"] !== undefined) {\n",
       "      toinsert[toinsert.length - 1].firstChild.textContent = output.data[JS_MIME_TYPE];\n",
       "      // store reference to embed id on output_area\n",
       "      output_area._bokeh_element_id = output.metadata[EXEC_MIME_TYPE][\"id\"];\n",
       "    }\n",
       "    if (output.metadata[EXEC_MIME_TYPE][\"server_id\"] !== undefined) {\n",
       "      var bk_div = document.createElement(\"div\");\n",
       "      bk_div.innerHTML = output.data[HTML_MIME_TYPE];\n",
       "      var script_attrs = bk_div.children[0].attributes;\n",
       "      for (var i = 0; i < script_attrs.length; i++) {\n",
       "        toinsert[toinsert.length - 1].firstChild.setAttribute(script_attrs[i].name, script_attrs[i].value);\n",
       "        toinsert[toinsert.length - 1].firstChild.textContent = bk_div.children[0].textContent\n",
       "      }\n",
       "      // store reference to server id on output_area\n",
       "      output_area._bokeh_server_id = output.metadata[EXEC_MIME_TYPE][\"server_id\"];\n",
       "    }\n",
       "  }\n",
       "\n",
       "  function register_renderer(events, OutputArea) {\n",
       "\n",
       "    function append_mime(data, metadata, element) {\n",
       "      // create a DOM node to render to\n",
       "      var toinsert = this.create_output_subarea(\n",
       "        metadata,\n",
       "        CLASS_NAME,\n",
       "        EXEC_MIME_TYPE\n",
       "      );\n",
       "      this.keyboard_manager.register_events(toinsert);\n",
       "      // Render to node\n",
       "      var props = {data: data, metadata: metadata[EXEC_MIME_TYPE]};\n",
       "      render(props, toinsert[toinsert.length - 1]);\n",
       "      element.append(toinsert);\n",
       "      return toinsert\n",
       "    }\n",
       "\n",
       "    /* Handle when an output is cleared or removed */\n",
       "    events.on('clear_output.CodeCell', handleClearOutput);\n",
       "    events.on('delete.Cell', handleClearOutput);\n",
       "\n",
       "    /* Handle when a new output is added */\n",
       "    events.on('output_added.OutputArea', handleAddOutput);\n",
       "\n",
       "    /**\n",
       "     * Register the mime type and append_mime function with output_area\n",
       "     */\n",
       "    OutputArea.prototype.register_mime_type(EXEC_MIME_TYPE, append_mime, {\n",
       "      /* Is output safe? */\n",
       "      safe: true,\n",
       "      /* Index of renderer in `output_area.display_order` */\n",
       "      index: 0\n",
       "    });\n",
       "  }\n",
       "\n",
       "  // register the mime type if in Jupyter Notebook environment and previously unregistered\n",
       "  if (root.Jupyter !== undefined) {\n",
       "    var events = require('base/js/events');\n",
       "    var OutputArea = require('notebook/js/outputarea').OutputArea;\n",
       "\n",
       "    if (OutputArea.prototype.mime_types().indexOf(EXEC_MIME_TYPE) == -1) {\n",
       "      register_renderer(events, OutputArea);\n",
       "    }\n",
       "  }\n",
       "\n",
       "  \n",
       "  if (typeof (root._bokeh_timeout) === \"undefined\" || force === true) {\n",
       "    root._bokeh_timeout = Date.now() + 5000;\n",
       "    root._bokeh_failed_load = false;\n",
       "  }\n",
       "\n",
       "  var NB_LOAD_WARNING = {'data': {'text/html':\n",
       "     \"<div style='background-color: #fdd'>\\n\"+\n",
       "     \"<p>\\n\"+\n",
       "     \"BokehJS does not appear to have successfully loaded. If loading BokehJS from CDN, this \\n\"+\n",
       "     \"may be due to a slow or bad network connection. Possible fixes:\\n\"+\n",
       "     \"</p>\\n\"+\n",
       "     \"<ul>\\n\"+\n",
       "     \"<li>re-rerun `output_notebook()` to attempt to load from CDN again, or</li>\\n\"+\n",
       "     \"<li>use INLINE resources instead, as so:</li>\\n\"+\n",
       "     \"</ul>\\n\"+\n",
       "     \"<code>\\n\"+\n",
       "     \"from bokeh.resources import INLINE\\n\"+\n",
       "     \"output_notebook(resources=INLINE)\\n\"+\n",
       "     \"</code>\\n\"+\n",
       "     \"</div>\"}};\n",
       "\n",
       "  function display_loaded() {\n",
       "    var el = document.getElementById(\"1001\");\n",
       "    if (el != null) {\n",
       "      el.textContent = \"BokehJS is loading...\";\n",
       "    }\n",
       "    if (root.Bokeh !== undefined) {\n",
       "      if (el != null) {\n",
       "        el.textContent = \"BokehJS \" + root.Bokeh.version + \" successfully loaded.\";\n",
       "      }\n",
       "    } else if (Date.now() < root._bokeh_timeout) {\n",
       "      setTimeout(display_loaded, 100)\n",
       "    }\n",
       "  }\n",
       "\n",
       "\n",
       "  function run_callbacks() {\n",
       "    try {\n",
       "      root._bokeh_onload_callbacks.forEach(function(callback) {\n",
       "        if (callback != null)\n",
       "          callback();\n",
       "      });\n",
       "    } finally {\n",
       "      delete root._bokeh_onload_callbacks\n",
       "    }\n",
       "    console.debug(\"Bokeh: all callbacks have finished\");\n",
       "  }\n",
       "\n",
       "  function load_libs(css_urls, js_urls, callback) {\n",
       "    if (css_urls == null) css_urls = [];\n",
       "    if (js_urls == null) js_urls = [];\n",
       "\n",
       "    root._bokeh_onload_callbacks.push(callback);\n",
       "    if (root._bokeh_is_loading > 0) {\n",
       "      console.debug(\"Bokeh: BokehJS is being loaded, scheduling callback at\", now());\n",
       "      return null;\n",
       "    }\n",
       "    if (js_urls == null || js_urls.length === 0) {\n",
       "      run_callbacks();\n",
       "      return null;\n",
       "    }\n",
       "    console.debug(\"Bokeh: BokehJS not loaded, scheduling load and callback at\", now());\n",
       "    root._bokeh_is_loading = css_urls.length + js_urls.length;\n",
       "\n",
       "    function on_load() {\n",
       "      root._bokeh_is_loading--;\n",
       "      if (root._bokeh_is_loading === 0) {\n",
       "        console.debug(\"Bokeh: all BokehJS libraries/stylesheets loaded\");\n",
       "        run_callbacks()\n",
       "      }\n",
       "    }\n",
       "\n",
       "    function on_error() {\n",
       "      console.error(\"failed to load \" + url);\n",
       "    }\n",
       "\n",
       "    for (var i = 0; i < css_urls.length; i++) {\n",
       "      var url = css_urls[i];\n",
       "      const element = document.createElement(\"link\");\n",
       "      element.onload = on_load;\n",
       "      element.onerror = on_error;\n",
       "      element.rel = \"stylesheet\";\n",
       "      element.type = \"text/css\";\n",
       "      element.href = url;\n",
       "      console.debug(\"Bokeh: injecting link tag for BokehJS stylesheet: \", url);\n",
       "      document.body.appendChild(element);\n",
       "    }\n",
       "\n",
       "    const hashes = {\"https://cdn.bokeh.org/bokeh/release/bokeh-2.1.1.min.js\": \"kLr4fYcqcSpbuI95brIH3vnnYCquzzSxHPU6XGQCIkQRGJwhg0StNbj1eegrHs12\", \"https://cdn.bokeh.org/bokeh/release/bokeh-widgets-2.1.1.min.js\": \"xIGPmVtaOm+z0BqfSOMn4lOR6ciex448GIKG4eE61LsAvmGj48XcMQZtKcE/UXZe\", \"https://cdn.bokeh.org/bokeh/release/bokeh-tables-2.1.1.min.js\": \"Dc9u1wF/0zApGIWoBbH77iWEHtdmkuYWG839Uzmv8y8yBLXebjO9ZnERsde5Ln/P\", \"https://cdn.bokeh.org/bokeh/release/bokeh-gl-2.1.1.min.js\": \"cT9JaBz7GiRXdENrJLZNSC6eMNF3nh3fa5fTF51Svp+ukxPdwcU5kGXGPBgDCa2j\"};\n",
       "\n",
       "    for (var i = 0; i < js_urls.length; i++) {\n",
       "      var url = js_urls[i];\n",
       "      var element = document.createElement('script');\n",
       "      element.onload = on_load;\n",
       "      element.onerror = on_error;\n",
       "      element.async = false;\n",
       "      element.src = url;\n",
       "      if (url in hashes) {\n",
       "        element.crossOrigin = \"anonymous\";\n",
       "        element.integrity = \"sha384-\" + hashes[url];\n",
       "      }\n",
       "      console.debug(\"Bokeh: injecting script tag for BokehJS library: \", url);\n",
       "      document.head.appendChild(element);\n",
       "    }\n",
       "  };\n",
       "\n",
       "  function inject_raw_css(css) {\n",
       "    const element = document.createElement(\"style\");\n",
       "    element.appendChild(document.createTextNode(css));\n",
       "    document.body.appendChild(element);\n",
       "  }\n",
       "\n",
       "  \n",
       "  var js_urls = [\"https://cdn.bokeh.org/bokeh/release/bokeh-2.1.1.min.js\", \"https://cdn.bokeh.org/bokeh/release/bokeh-widgets-2.1.1.min.js\", \"https://cdn.bokeh.org/bokeh/release/bokeh-tables-2.1.1.min.js\", \"https://cdn.bokeh.org/bokeh/release/bokeh-gl-2.1.1.min.js\"];\n",
       "  var css_urls = [];\n",
       "  \n",
       "\n",
       "  var inline_js = [\n",
       "    function(Bokeh) {\n",
       "      Bokeh.set_log_level(\"info\");\n",
       "    },\n",
       "    function(Bokeh) {\n",
       "    \n",
       "    \n",
       "    }\n",
       "  ];\n",
       "\n",
       "  function run_inline_js() {\n",
       "    \n",
       "    if (root.Bokeh !== undefined || force === true) {\n",
       "      \n",
       "    for (var i = 0; i < inline_js.length; i++) {\n",
       "      inline_js[i].call(root, root.Bokeh);\n",
       "    }\n",
       "    if (force === true) {\n",
       "        display_loaded();\n",
       "      }} else if (Date.now() < root._bokeh_timeout) {\n",
       "      setTimeout(run_inline_js, 100);\n",
       "    } else if (!root._bokeh_failed_load) {\n",
       "      console.log(\"Bokeh: BokehJS failed to load within specified timeout.\");\n",
       "      root._bokeh_failed_load = true;\n",
       "    } else if (force !== true) {\n",
       "      var cell = $(document.getElementById(\"1001\")).parents('.cell').data().cell;\n",
       "      cell.output_area.append_execute_result(NB_LOAD_WARNING)\n",
       "    }\n",
       "\n",
       "  }\n",
       "\n",
       "  if (root._bokeh_is_loading === 0) {\n",
       "    console.debug(\"Bokeh: BokehJS loaded, going straight to plotting\");\n",
       "    run_inline_js();\n",
       "  } else {\n",
       "    load_libs(css_urls, js_urls, function() {\n",
       "      console.debug(\"Bokeh: BokehJS plotting callback run at\", now());\n",
       "      run_inline_js();\n",
       "    });\n",
       "  }\n",
       "}(window));"
      ],
      "application/vnd.bokehjs_load.v0+json": "\n(function(root) {\n  function now() {\n    return new Date();\n  }\n\n  var force = true;\n\n  if (typeof root._bokeh_onload_callbacks === \"undefined\" || force === true) {\n    root._bokeh_onload_callbacks = [];\n    root._bokeh_is_loading = undefined;\n  }\n\n  \n\n  \n  if (typeof (root._bokeh_timeout) === \"undefined\" || force === true) {\n    root._bokeh_timeout = Date.now() + 5000;\n    root._bokeh_failed_load = false;\n  }\n\n  var NB_LOAD_WARNING = {'data': {'text/html':\n     \"<div style='background-color: #fdd'>\\n\"+\n     \"<p>\\n\"+\n     \"BokehJS does not appear to have successfully loaded. If loading BokehJS from CDN, this \\n\"+\n     \"may be due to a slow or bad network connection. Possible fixes:\\n\"+\n     \"</p>\\n\"+\n     \"<ul>\\n\"+\n     \"<li>re-rerun `output_notebook()` to attempt to load from CDN again, or</li>\\n\"+\n     \"<li>use INLINE resources instead, as so:</li>\\n\"+\n     \"</ul>\\n\"+\n     \"<code>\\n\"+\n     \"from bokeh.resources import INLINE\\n\"+\n     \"output_notebook(resources=INLINE)\\n\"+\n     \"</code>\\n\"+\n     \"</div>\"}};\n\n  function display_loaded() {\n    var el = document.getElementById(\"1001\");\n    if (el != null) {\n      el.textContent = \"BokehJS is loading...\";\n    }\n    if (root.Bokeh !== undefined) {\n      if (el != null) {\n        el.textContent = \"BokehJS \" + root.Bokeh.version + \" successfully loaded.\";\n      }\n    } else if (Date.now() < root._bokeh_timeout) {\n      setTimeout(display_loaded, 100)\n    }\n  }\n\n\n  function run_callbacks() {\n    try {\n      root._bokeh_onload_callbacks.forEach(function(callback) {\n        if (callback != null)\n          callback();\n      });\n    } finally {\n      delete root._bokeh_onload_callbacks\n    }\n    console.debug(\"Bokeh: all callbacks have finished\");\n  }\n\n  function load_libs(css_urls, js_urls, callback) {\n    if (css_urls == null) css_urls = [];\n    if (js_urls == null) js_urls = [];\n\n    root._bokeh_onload_callbacks.push(callback);\n    if (root._bokeh_is_loading > 0) {\n      console.debug(\"Bokeh: BokehJS is being loaded, scheduling callback at\", now());\n      return null;\n    }\n    if (js_urls == null || js_urls.length === 0) {\n      run_callbacks();\n      return null;\n    }\n    console.debug(\"Bokeh: BokehJS not loaded, scheduling load and callback at\", now());\n    root._bokeh_is_loading = css_urls.length + js_urls.length;\n\n    function on_load() {\n      root._bokeh_is_loading--;\n      if (root._bokeh_is_loading === 0) {\n        console.debug(\"Bokeh: all BokehJS libraries/stylesheets loaded\");\n        run_callbacks()\n      }\n    }\n\n    function on_error() {\n      console.error(\"failed to load \" + url);\n    }\n\n    for (var i = 0; i < css_urls.length; i++) {\n      var url = css_urls[i];\n      const element = document.createElement(\"link\");\n      element.onload = on_load;\n      element.onerror = on_error;\n      element.rel = \"stylesheet\";\n      element.type = \"text/css\";\n      element.href = url;\n      console.debug(\"Bokeh: injecting link tag for BokehJS stylesheet: \", url);\n      document.body.appendChild(element);\n    }\n\n    const hashes = {\"https://cdn.bokeh.org/bokeh/release/bokeh-2.1.1.min.js\": \"kLr4fYcqcSpbuI95brIH3vnnYCquzzSxHPU6XGQCIkQRGJwhg0StNbj1eegrHs12\", \"https://cdn.bokeh.org/bokeh/release/bokeh-widgets-2.1.1.min.js\": \"xIGPmVtaOm+z0BqfSOMn4lOR6ciex448GIKG4eE61LsAvmGj48XcMQZtKcE/UXZe\", \"https://cdn.bokeh.org/bokeh/release/bokeh-tables-2.1.1.min.js\": \"Dc9u1wF/0zApGIWoBbH77iWEHtdmkuYWG839Uzmv8y8yBLXebjO9ZnERsde5Ln/P\", \"https://cdn.bokeh.org/bokeh/release/bokeh-gl-2.1.1.min.js\": \"cT9JaBz7GiRXdENrJLZNSC6eMNF3nh3fa5fTF51Svp+ukxPdwcU5kGXGPBgDCa2j\"};\n\n    for (var i = 0; i < js_urls.length; i++) {\n      var url = js_urls[i];\n      var element = document.createElement('script');\n      element.onload = on_load;\n      element.onerror = on_error;\n      element.async = false;\n      element.src = url;\n      if (url in hashes) {\n        element.crossOrigin = \"anonymous\";\n        element.integrity = \"sha384-\" + hashes[url];\n      }\n      console.debug(\"Bokeh: injecting script tag for BokehJS library: \", url);\n      document.head.appendChild(element);\n    }\n  };\n\n  function inject_raw_css(css) {\n    const element = document.createElement(\"style\");\n    element.appendChild(document.createTextNode(css));\n    document.body.appendChild(element);\n  }\n\n  \n  var js_urls = [\"https://cdn.bokeh.org/bokeh/release/bokeh-2.1.1.min.js\", \"https://cdn.bokeh.org/bokeh/release/bokeh-widgets-2.1.1.min.js\", \"https://cdn.bokeh.org/bokeh/release/bokeh-tables-2.1.1.min.js\", \"https://cdn.bokeh.org/bokeh/release/bokeh-gl-2.1.1.min.js\"];\n  var css_urls = [];\n  \n\n  var inline_js = [\n    function(Bokeh) {\n      Bokeh.set_log_level(\"info\");\n    },\n    function(Bokeh) {\n    \n    \n    }\n  ];\n\n  function run_inline_js() {\n    \n    if (root.Bokeh !== undefined || force === true) {\n      \n    for (var i = 0; i < inline_js.length; i++) {\n      inline_js[i].call(root, root.Bokeh);\n    }\n    if (force === true) {\n        display_loaded();\n      }} else if (Date.now() < root._bokeh_timeout) {\n      setTimeout(run_inline_js, 100);\n    } else if (!root._bokeh_failed_load) {\n      console.log(\"Bokeh: BokehJS failed to load within specified timeout.\");\n      root._bokeh_failed_load = true;\n    } else if (force !== true) {\n      var cell = $(document.getElementById(\"1001\")).parents('.cell').data().cell;\n      cell.output_area.append_execute_result(NB_LOAD_WARNING)\n    }\n\n  }\n\n  if (root._bokeh_is_loading === 0) {\n    console.debug(\"Bokeh: BokehJS loaded, going straight to plotting\");\n    run_inline_js();\n  } else {\n    load_libs(css_urls, js_urls, function() {\n      console.debug(\"Bokeh: BokehJS plotting callback run at\", now());\n      run_inline_js();\n    });\n  }\n}(window));"
     },
     "metadata": {},
     "output_type": "display_data"
    }
   ],
   "source": [
    "#  Load the \"autoreload\" extension so that code can change\n",
    "%load_ext autoreload\n",
    "%reload_ext autoreload\n",
    "from pathlib import Path\n",
    "\n",
    "#  always reload modules so that as you change code in src, it gets loaded\n",
    "%autoreload 2\n",
    "%matplotlib inline\n",
    "\n",
    "import sys\n",
    "sys.path.append('../')\n",
    "from src.imports import *\n",
    "from src.data.download_data import *\n",
    "from src.data.fire_data import *\n",
    "from src.data.read_data import *\n",
    "from src.gen_functions import *\n",
    "from src.features.dataset import Dataset\n",
    "import seaborn as sns\n",
    "output_notebook()\n",
    "# set font size \n",
    "plt.rcParams.update({'font.size': 16})"
   ]
  },
  {
   "cell_type": "code",
   "execution_count": 3,
   "metadata": {},
   "outputs": [],
   "source": [
    "b_folder='../data/pm25/'\n",
    "a4th_folder ='../data/air4thai_hourly/'\n",
    "cm_folder ='../data/cm_proc/'\n",
    "cdc_folder = '../data/cdc_data/'\n",
    "aqm_folder = '../data/aqm_hourly2/'"
   ]
  },
  {
   "cell_type": "code",
   "execution_count": 3,
   "metadata": {},
   "outputs": [],
   "source": [
    "KEY = os.environ.get('T_KEY')"
   ]
  },
  {
   "cell_type": "markdown",
   "metadata": {},
   "source": [
    "# Function"
   ]
  },
  {
   "cell_type": "code",
   "execution_count": 28,
   "metadata": {},
   "outputs": [],
   "source": [
    "def get_b_box(x_cen, y_cen, width):\n",
    "    \"\"\"Obtain the bounding box given the center coordinate and the step size.\n",
    "    \n",
    "    x_cen and y_cen must be in mercator coordinate\n",
    "    \n",
    "    Args:\n",
    "        x_cen: Longitude center of the box \n",
    "        y_cen: Latitude center of the box \n",
    "        width: the width of the bounding box in km\n",
    "    \n",
    "    Return xy_arr\n",
    "    \n",
    "    \"\"\"\n",
    "    # define the width of the bounding box\n",
    " \n",
    "    step = width*0.5\n",
    "    \n",
    "    return  [(x_cen+step, y_cen+step), (x_cen-step, y_cen+step), (x_cen+step, y_cen-step), (x_cen-step, y_cen-step) ]"
   ]
  },
  {
   "cell_type": "code",
   "execution_count": 5,
   "metadata": {},
   "outputs": [],
   "source": [
    "def get_pts_on_ln(ln,line_types, num_pts=25):\n",
    "    \"\"\"Get points along a straight line. \n",
    "    \n",
    "    The line can be horizontal or vertical lines\n",
    "    \n",
    "    Args:\n",
    "        ln: a pair of lat,long coordinate that define a line \n",
    "        line_type: either vertical ('v_line') or horitzontal ('h_line')\n",
    "        num_pts: number of points needed\n",
    "        \n",
    "    \"\"\"\n",
    "    line_type = 'v_line'\n",
    "    if line_type == 'v_line':\n",
    "        y = np.mean(ln[:,1])\n",
    "        x = ln[:,0]\n",
    "        x = np.linspace(x[0], x[1], num_pts).round(7)\n",
    "        \n",
    "        coor = [[o, y] for o in x]\n",
    "        \n",
    "    elif line_type == 'h_line':\n",
    "        x = np.mean(ln[:,0])\n",
    "        y = ln[:,1]\n",
    "        y = np.linspace(y[0], y[1], num_pts).round(7)\n",
    "        coor = [[x, o] for o in y]\n",
    "        \n",
    "    else:\n",
    "        raise AssertionError('The line_type must be either v_line or h_line.')\n",
    "                             \n",
    "    return np.array(coor)\n",
    "    \n",
    "    "
   ]
  },
  {
   "cell_type": "code",
   "execution_count": 6,
   "metadata": {},
   "outputs": [],
   "source": [
    "city_json = glob(b_folder + '*.json')[0]\n",
    "with open(city_json) as f:\n",
    "    cities_info = json.load(f)"
   ]
  },
  {
   "cell_type": "code",
   "execution_count": 9,
   "metadata": {},
   "outputs": [
    {
     "data": {
      "text/html": [
       "\n",
       "\n",
       "\n",
       "\n",
       "\n",
       "\n",
       "  <div class=\"bk-root\" id=\"23bd0b43-979c-48ab-8084-0989bbe16bac\" data-root-id=\"1080\"></div>\n"
      ]
     },
     "metadata": {},
     "output_type": "display_data"
    },
    {
     "data": {
      "application/javascript": [
       "(function(root) {\n",
       "  function embed_document(root) {\n",
       "    \n",
       "  var docs_json = {\"0fdb88eb-23cc-405e-802c-90bcf4e7d9e1\":{\"roots\":{\"references\":[{\"attributes\":{\"below\":[{\"id\":\"1089\"}],\"center\":[{\"id\":\"1096\"},{\"id\":\"1104\"},{\"id\":\"1136\"}],\"left\":[{\"id\":\"1097\"}],\"renderers\":[{\"id\":\"1120\"},{\"id\":\"1125\"},{\"id\":\"1141\"},{\"id\":\"1146\"},{\"id\":\"1151\"},{\"id\":\"1156\"},{\"id\":\"1161\"}],\"title\":{\"id\":\"1128\"},\"toolbar\":{\"id\":\"1112\"},\"x_range\":{\"id\":\"1081\"},\"x_scale\":{\"id\":\"1085\"},\"y_range\":{\"id\":\"1083\"},\"y_scale\":{\"id\":\"1087\"}},\"id\":\"1080\",\"subtype\":\"Figure\",\"type\":\"Plot\"},{\"attributes\":{\"data_source\":{\"id\":\"1153\"},\"glyph\":{\"id\":\"1154\"},\"hover_glyph\":null,\"muted_glyph\":null,\"nonselection_glyph\":{\"id\":\"1155\"},\"selection_glyph\":null,\"view\":{\"id\":\"1157\"}},\"id\":\"1156\",\"type\":\"GlyphRenderer\"},{\"attributes\":{},\"id\":\"1177\",\"type\":\"UnionRenderers\"},{\"attributes\":{\"fill_color\":{\"value\":\"red\"},\"size\":{\"units\":\"screen\",\"value\":10},\"x\":{\"value\":11018926.400324948},\"y\":{\"value\":2116517.977267514}},\"id\":\"1123\",\"type\":\"Circle\"},{\"attributes\":{\"data\":{\"x\":{\"__ndarray__\":\"Q3bPTB0DZUFDds9MHQNlQUN2z0wdA2VBQ3bPTB0DZUFDds9MHQNlQUR2z0yOBWVBRHbPTI4FZUFEds9MjgVlQUR2z0yOBWVBRHbPTI4FZUE=\",\"dtype\":\"float64\",\"order\":\"little\",\"shape\":[10]},\"y\":[2119017.977712532,2117767.8554770313,2116517.8136348403,2115267.852131736,2114017.9826000473,2119017.977712532,2117767.8554770313,2116517.8136348403,2115267.852131736,2114017.9826000473]},\"selected\":{\"id\":\"1180\"},\"selection_policy\":{\"id\":\"1179\"}},\"id\":\"1158\",\"type\":\"ColumnDataSource\"},{\"attributes\":{},\"id\":\"1110\",\"type\":\"HelpTool\"},{\"attributes\":{},\"id\":\"1179\",\"type\":\"UnionRenderers\"},{\"attributes\":{},\"id\":\"1178\",\"type\":\"Selection\"},{\"attributes\":{\"axis\":{\"id\":\"1097\"},\"dimension\":1,\"ticker\":null},\"id\":\"1104\",\"type\":\"Grid\"},{\"attributes\":{},\"id\":\"1180\",\"type\":\"Selection\"},{\"attributes\":{},\"id\":\"1133\",\"type\":\"UnionRenderers\"},{\"attributes\":{\"formatter\":{\"id\":\"1100\"},\"ticker\":{\"id\":\"1098\"}},\"id\":\"1097\",\"type\":\"MercatorAxis\"},{\"attributes\":{\"line_alpha\":0.1,\"line_color\":\"blue\",\"line_width\":2,\"x\":{\"field\":\"x\"},\"y\":{\"field\":\"y\"}},\"id\":\"1145\",\"type\":\"Line\"},{\"attributes\":{\"dimension\":\"lon\"},\"id\":\"1090\",\"type\":\"MercatorTicker\"},{\"attributes\":{\"fill_color\":{\"value\":\"red\"},\"line_color\":{\"value\":\"red\"},\"x\":{\"field\":\"x\"},\"y\":{\"field\":\"y\"}},\"id\":\"1159\",\"type\":\"Circle\"},{\"attributes\":{\"dimension\":\"lat\"},\"id\":\"1098\",\"type\":\"MercatorTicker\"},{\"attributes\":{\"attribution\":\"Map tiles by <a href=\\\"https://stamen.com\\\">Stamen Design</a>, under <a href=\\\"https://creativecommons.org/licenses/by/3.0\\\">CC BY 3.0</a>. Data by <a href=\\\"https://openstreetmap.org\\\">OpenStreetMap</a>, under <a href=\\\"https://creativecommons.org/licenses/by-sa/3.0\\\">CC BY SA</a>.\",\"url\":\"https://stamen-tiles.a.ssl.fastly.net/terrain/{Z}/{X}/{Y}@2x.png\"},\"id\":\"1119\",\"type\":\"WMTSTileSource\"},{\"attributes\":{},\"id\":\"1134\",\"type\":\"Selection\"},{\"attributes\":{\"items\":[{\"id\":\"1137\"}]},\"id\":\"1136\",\"type\":\"Legend\"},{\"attributes\":{\"dimension\":\"lon\"},\"id\":\"1092\",\"type\":\"MercatorTickFormatter\"},{\"attributes\":{\"fill_alpha\":{\"value\":0.1},\"fill_color\":{\"value\":\"red\"},\"line_alpha\":{\"value\":0.1},\"line_color\":{\"value\":\"red\"},\"x\":{\"field\":\"x\"},\"y\":{\"field\":\"y\"}},\"id\":\"1160\",\"type\":\"Circle\"},{\"attributes\":{\"data_source\":{\"id\":\"1158\"},\"glyph\":{\"id\":\"1159\"},\"hover_glyph\":null,\"muted_glyph\":null,\"nonselection_glyph\":{\"id\":\"1160\"},\"selection_glyph\":null,\"view\":{\"id\":\"1162\"}},\"id\":\"1161\",\"type\":\"GlyphRenderer\"},{\"attributes\":{\"fill_alpha\":{\"value\":0.1},\"fill_color\":{\"value\":\"red\"},\"line_alpha\":{\"value\":0.1},\"size\":{\"units\":\"screen\",\"value\":10},\"x\":{\"value\":11018926.400324948},\"y\":{\"value\":2116517.977267514}},\"id\":\"1124\",\"type\":\"Circle\"},{\"attributes\":{\"source\":{\"id\":\"1143\"}},\"id\":\"1147\",\"type\":\"CDSView\"},{\"attributes\":{\"line_alpha\":0.1,\"line_color\":\"red\",\"line_width\":2,\"x\":{\"field\":\"x\"},\"y\":{\"field\":\"y\"}},\"id\":\"1150\",\"type\":\"Line\"},{\"attributes\":{\"formatter\":{\"id\":\"1092\"},\"ticker\":{\"id\":\"1090\"}},\"id\":\"1089\",\"type\":\"MercatorAxis\"},{\"attributes\":{\"data\":{\"x\":{\"__ndarray__\":\"RHbPTB0DZUFEds9MHQNlQQ==\",\"dtype\":\"float64\",\"order\":\"little\",\"shape\":[2]},\"y\":{\"__ndarray__\":\"FhoX/bQqQEEWGhf98CBAQQ==\",\"dtype\":\"float64\",\"order\":\"little\",\"shape\":[2]}},\"selected\":{\"id\":\"1172\"},\"selection_policy\":{\"id\":\"1171\"}},\"id\":\"1138\",\"type\":\"ColumnDataSource\"},{\"attributes\":{\"end\":11028926.400324948,\"start\":11008926.400324948},\"id\":\"1081\",\"type\":\"Range1d\"},{\"attributes\":{\"active_drag\":\"auto\",\"active_inspect\":\"auto\",\"active_multi\":null,\"active_scroll\":\"auto\",\"active_tap\":\"auto\",\"tools\":[{\"id\":\"1105\"},{\"id\":\"1106\"},{\"id\":\"1107\"},{\"id\":\"1108\"},{\"id\":\"1109\"},{\"id\":\"1110\"}]},\"id\":\"1112\",\"type\":\"Toolbar\"},{\"attributes\":{\"data\":{},\"selected\":{\"id\":\"1134\"},\"selection_policy\":{\"id\":\"1133\"}},\"id\":\"1122\",\"type\":\"ColumnDataSource\"},{\"attributes\":{\"line_color\":\"red\",\"line_width\":2,\"x\":{\"field\":\"x\"},\"y\":{\"field\":\"y\"}},\"id\":\"1149\",\"type\":\"Line\"},{\"attributes\":{\"line_color\":\"blue\",\"line_width\":2,\"x\":{\"field\":\"x\"},\"y\":{\"field\":\"y\"}},\"id\":\"1144\",\"type\":\"Line\"},{\"attributes\":{\"source\":{\"id\":\"1148\"}},\"id\":\"1152\",\"type\":\"CDSView\"},{\"attributes\":{\"end\":2126517.977267514,\"start\":2106517.977267514},\"id\":\"1083\",\"type\":\"Range1d\"},{\"attributes\":{\"data_source\":{\"id\":\"1143\"},\"glyph\":{\"id\":\"1144\"},\"hover_glyph\":null,\"muted_glyph\":null,\"nonselection_glyph\":{\"id\":\"1145\"},\"selection_glyph\":null,\"view\":{\"id\":\"1147\"}},\"id\":\"1146\",\"type\":\"GlyphRenderer\"},{\"attributes\":{\"label\":{\"value\":\"Chiang Mai\"},\"renderers\":[{\"id\":\"1125\"}]},\"id\":\"1137\",\"type\":\"LegendItem\"},{\"attributes\":{\"data\":{\"x\":{\"__ndarray__\":\"RHbPTI4FZUFEds9MjgVlQQ==\",\"dtype\":\"float64\",\"order\":\"little\",\"shape\":[2]},\"y\":{\"__ndarray__\":\"FhoX/bQqQEEWGhf98CBAQQ==\",\"dtype\":\"float64\",\"order\":\"little\",\"shape\":[2]}},\"selected\":{\"id\":\"1174\"},\"selection_policy\":{\"id\":\"1173\"}},\"id\":\"1143\",\"type\":\"ColumnDataSource\"},{\"attributes\":{\"tile_source\":{\"id\":\"1119\"}},\"id\":\"1120\",\"type\":\"TileRenderer\"},{\"attributes\":{\"data_source\":{\"id\":\"1148\"},\"glyph\":{\"id\":\"1149\"},\"hover_glyph\":null,\"muted_glyph\":null,\"nonselection_glyph\":{\"id\":\"1150\"},\"selection_glyph\":null,\"view\":{\"id\":\"1152\"}},\"id\":\"1151\",\"type\":\"GlyphRenderer\"},{\"attributes\":{\"source\":{\"id\":\"1158\"}},\"id\":\"1162\",\"type\":\"CDSView\"},{\"attributes\":{\"bottom_units\":\"screen\",\"fill_alpha\":0.5,\"fill_color\":\"lightgrey\",\"left_units\":\"screen\",\"level\":\"overlay\",\"line_alpha\":1.0,\"line_color\":\"black\",\"line_dash\":[4,4],\"line_width\":2,\"right_units\":\"screen\",\"top_units\":\"screen\"},\"id\":\"1111\",\"type\":\"BoxAnnotation\"},{\"attributes\":{\"data_source\":{\"id\":\"1122\"},\"glyph\":{\"id\":\"1123\"},\"hover_glyph\":null,\"muted_glyph\":null,\"nonselection_glyph\":{\"id\":\"1124\"},\"selection_glyph\":null,\"view\":{\"id\":\"1126\"}},\"id\":\"1125\",\"type\":\"GlyphRenderer\"},{\"attributes\":{},\"id\":\"1109\",\"type\":\"ResetTool\"},{\"attributes\":{\"axis\":{\"id\":\"1089\"},\"ticker\":null},\"id\":\"1096\",\"type\":\"Grid\"},{\"attributes\":{},\"id\":\"1173\",\"type\":\"UnionRenderers\"},{\"attributes\":{\"data\":{\"x\":{\"__ndarray__\":\"RHbPTB0DZUFEds9MjgVlQQ==\",\"dtype\":\"float64\",\"order\":\"little\",\"shape\":[2]},\"y\":{\"__ndarray__\":\"FhoX/fAgQEEWGhf98CBAQQ==\",\"dtype\":\"float64\",\"order\":\"little\",\"shape\":[2]}},\"selected\":{\"id\":\"1178\"},\"selection_policy\":{\"id\":\"1177\"}},\"id\":\"1153\",\"type\":\"ColumnDataSource\"},{\"attributes\":{\"data\":{\"x\":{\"__ndarray__\":\"RHbPTI4FZUFEds9MHQNlQQ==\",\"dtype\":\"float64\",\"order\":\"little\",\"shape\":[2]},\"y\":{\"__ndarray__\":\"FhoX/bQqQEEWGhf9tCpAQQ==\",\"dtype\":\"float64\",\"order\":\"little\",\"shape\":[2]}},\"selected\":{\"id\":\"1176\"},\"selection_policy\":{\"id\":\"1175\"}},\"id\":\"1148\",\"type\":\"ColumnDataSource\"},{\"attributes\":{},\"id\":\"1105\",\"type\":\"PanTool\"},{\"attributes\":{},\"id\":\"1175\",\"type\":\"UnionRenderers\"},{\"attributes\":{},\"id\":\"1106\",\"type\":\"WheelZoomTool\"},{\"attributes\":{},\"id\":\"1171\",\"type\":\"UnionRenderers\"},{\"attributes\":{},\"id\":\"1085\",\"type\":\"LinearScale\"},{\"attributes\":{\"source\":{\"id\":\"1122\"}},\"id\":\"1126\",\"type\":\"CDSView\"},{\"attributes\":{\"overlay\":{\"id\":\"1111\"}},\"id\":\"1107\",\"type\":\"BoxZoomTool\"},{\"attributes\":{},\"id\":\"1172\",\"type\":\"Selection\"},{\"attributes\":{\"text\":\"\"},\"id\":\"1128\",\"type\":\"Title\"},{\"attributes\":{\"line_alpha\":0.1,\"line_color\":\"blue\",\"line_width\":2,\"x\":{\"field\":\"x\"},\"y\":{\"field\":\"y\"}},\"id\":\"1140\",\"type\":\"Line\"},{\"attributes\":{\"source\":{\"id\":\"1153\"}},\"id\":\"1157\",\"type\":\"CDSView\"},{\"attributes\":{\"dimension\":\"lat\"},\"id\":\"1100\",\"type\":\"MercatorTickFormatter\"},{\"attributes\":{},\"id\":\"1108\",\"type\":\"SaveTool\"},{\"attributes\":{},\"id\":\"1174\",\"type\":\"Selection\"},{\"attributes\":{\"line_color\":\"blue\",\"line_width\":2,\"x\":{\"field\":\"x\"},\"y\":{\"field\":\"y\"}},\"id\":\"1139\",\"type\":\"Line\"},{\"attributes\":{\"line_alpha\":0.1,\"line_color\":\"red\",\"line_width\":2,\"x\":{\"field\":\"x\"},\"y\":{\"field\":\"y\"}},\"id\":\"1155\",\"type\":\"Line\"},{\"attributes\":{\"source\":{\"id\":\"1138\"}},\"id\":\"1142\",\"type\":\"CDSView\"},{\"attributes\":{\"line_color\":\"red\",\"line_width\":2,\"x\":{\"field\":\"x\"},\"y\":{\"field\":\"y\"}},\"id\":\"1154\",\"type\":\"Line\"},{\"attributes\":{},\"id\":\"1087\",\"type\":\"LinearScale\"},{\"attributes\":{\"data_source\":{\"id\":\"1138\"},\"glyph\":{\"id\":\"1139\"},\"hover_glyph\":null,\"muted_glyph\":null,\"nonselection_glyph\":{\"id\":\"1140\"},\"selection_glyph\":null,\"view\":{\"id\":\"1142\"}},\"id\":\"1141\",\"type\":\"GlyphRenderer\"},{\"attributes\":{},\"id\":\"1176\",\"type\":\"Selection\"}],\"root_ids\":[\"1080\"]},\"title\":\"Bokeh Application\",\"version\":\"2.1.1\"}};\n",
       "  var render_items = [{\"docid\":\"0fdb88eb-23cc-405e-802c-90bcf4e7d9e1\",\"root_ids\":[\"1080\"],\"roots\":{\"1080\":\"23bd0b43-979c-48ab-8084-0989bbe16bac\"}}];\n",
       "  root.Bokeh.embed.embed_items_notebook(docs_json, render_items);\n",
       "\n",
       "  }\n",
       "  if (root.Bokeh !== undefined) {\n",
       "    embed_document(root);\n",
       "  } else {\n",
       "    var attempts = 0;\n",
       "    var timer = setInterval(function(root) {\n",
       "      if (root.Bokeh !== undefined) {\n",
       "        clearInterval(timer);\n",
       "        embed_document(root);\n",
       "      } else {\n",
       "        attempts++;\n",
       "        if (attempts > 100) {\n",
       "          clearInterval(timer);\n",
       "          console.log(\"Bokeh: ERROR: Unable to run BokehJS code because BokehJS library is missing\");\n",
       "        }\n",
       "      }\n",
       "    }, 10, root)\n",
       "  }\n",
       "})(window);"
      ],
      "application/vnd.bokehjs_exec.v0+json": ""
     },
     "metadata": {
      "application/vnd.bokehjs_exec.v0+json": {
       "id": "1080"
      }
     },
     "output_type": "display_data"
    }
   ],
   "source": [
    "bkk_info = cities_info[0]\n",
    "cm_info = {'Country': 'Thailand',\n",
    " 'City': 'Chiang Mai',\n",
    " 'City (ASCII)': 'Chiang Mai',\n",
    " 'Region': 'Chiang Mai',\n",
    " 'Region (ASCII)': 'Chiang Mai',\n",
    " 'Population': '200952',\n",
    " 'Latitude': '18.7904',\n",
    " 'Longitude': '98.9847',\n",
    " 'Time Zone': 'Asia/Bangkok'}\n",
    "\n",
    "x_lon = cm_info['Longitude']\n",
    "y_lat = cm_info['Latitude']\n",
    "\n",
    "x_cen = merc_x(x_lon)\n",
    "y_cen = merc_y(y_lat)\n",
    "\n",
    "# define the width of the bounding box\n",
    "width = 5E3\n",
    "xy_arr = get_b_box(x_cen, y_cen, width)\n",
    "v_ln1 = np.array([xy_arr[1], xy_arr[2]])\n",
    "v_ln2 = np.array([xy_arr[0], xy_arr[3]])\n",
    "\n",
    "h_ln1 = np.array([xy_arr[0], xy_arr[1]])\n",
    "h_ln2 = np.array([xy_arr[2], xy_arr[3]])\n",
    "\n",
    "stepx = 1E4\n",
    "stepy = stepx\n",
    "\n",
    "# range bounds supplied in web mercator coordinates\n",
    "p = figure(x_range=(x_cen-1*stepx,x_cen+1*stepx), y_range=(y_cen-stepy*1, y_cen+stepy*1),\n",
    "           x_axis_type=\"mercator\", y_axis_type=\"mercator\")\n",
    "\n",
    "p.add_tile(get_provider(Vendors.STAMEN_TERRAIN_RETINA))\n",
    "\n",
    "\n",
    "p.circle(x_cen,y_cen,color='red',line_color='black',size=10, legend_label='Chiang Mai')\n",
    "p.line(v_ln1[:,0], v_ln1[:,1],color='blue', line_width=2)\n",
    "p.line(v_ln2[:,0], v_ln2[:,1],color='blue', line_width=2)\n",
    "p.line(h_ln1[:,0], h_ln1[:,1],color='red', line_width=2)\n",
    "p.line(h_ln2[:,0], h_ln2[:,1],color='red', line_width=2)\n",
    "\n",
    "# obtain coor_list \n",
    "num_pts = 5\n",
    "coor_arr = np.vstack([get_pts_on_ln(ln, ln_type, num_pts) for ln, ln_type in zip(line_list, line_type)])\n",
    "p.circle( np.apply_along_axis(merc_x, arr=coor_arr[ :2*num_pts,1], axis=0),[merc_y(y) for y in coor_arr[ :2*num_pts, 0 ]], color='red' )\n",
    "\n",
    "\n",
    "show(p)"
   ]
  },
  {
   "cell_type": "code",
   "execution_count": 8,
   "metadata": {},
   "outputs": [],
   "source": [
    "xy_arr = get_b_box(x_cen, y_cen, 5E3)\n",
    "\n",
    "# convert to lat-lon \n",
    "xy_latlon = np.apply_along_axis(to_latlon, arr=xy_arr, axis=1 )\n",
    "# get line pairs \n",
    "v_ln1 = np.array([xy_latlon[1], xy_latlon[2]])\n",
    "v_ln2 = np.array([xy_latlon[0], xy_latlon[3]])\n",
    "\n",
    "h_ln1 = np.array([xy_latlon[0], xy_latlon[1]])\n",
    "h_ln2 = np.array([xy_latlon[2], xy_latlon[3]])\n",
    "\n",
    "# find points long each lines \n",
    "line_type = ['v_line','v_line', 'h_line', 'h_line']\n",
    "line_list = [v_ln1, v_ln2, h_ln1, h_ln2]\n",
    "num_pts = 10\n",
    "coor_list = np.vstack([get_pts_on_ln(ln, ln_type, num_pts) for ln, ln_type in zip(line_list, line_type)])\n",
    "# add center coordinate \n",
    "coor_list = np.concatenate(([[y_lat , x_lon ]], coor_list))\n",
    "\n",
    "# convert to points for REST API\n",
    "pts_list = coor_list.astype(str)\n",
    "pts_list = np.apply_along_axis(','.join, arr=pts_list, axis=1)\n",
    "pts_list = np.apply_along_axis('|'.join, arr=pts_list, axis=0).tolist()"
   ]
  },
  {
   "cell_type": "code",
   "execution_count": 51,
   "metadata": {},
   "outputs": [],
   "source": [
    "# obtain the nearest roads for center points\n",
    "url = f'https://roads.googleapis.com/v1/nearestRoads?points={pts_list}&key={KEY}'\n",
    "res = requests.get(url)\n",
    "# extract json\n",
    "res = res.json()['snappedPoints']\n",
    "# convert to dataframe \n",
    "res_df = pd.DataFrame(res)\n",
    "res_df = pd.concat([res_df, pd.json_normalize(res_df['location'])], axis=1)\n",
    "\n",
    "# extract place ID\n",
    "c_place = res_df[res_df['originalIndex']==0].iloc[0]['placeId']\n",
    "# drop original \n",
    "place_list = res_df[res_df['originalIndex']!=0]['placeId'].dropna().unique()"
   ]
  },
  {
   "cell_type": "code",
   "execution_count": 61,
   "metadata": {},
   "outputs": [],
   "source": [
    "org_pl = c_place\n",
    "des_pl = place_list[1]"
   ]
  },
  {
   "cell_type": "code",
   "execution_count": 62,
   "metadata": {},
   "outputs": [],
   "source": [
    "dp_time = 1343641500"
   ]
  },
  {
   "cell_type": "code",
   "execution_count": 63,
   "metadata": {},
   "outputs": [
    {
     "data": {
      "text/plain": [
       "'ChIJiWnCLZo62jAROsJFeDBcCSM'"
      ]
     },
     "execution_count": 63,
     "metadata": {},
     "output_type": "execute_result"
    }
   ],
   "source": [
    "org_pl"
   ]
  },
  {
   "cell_type": "code",
   "execution_count": 64,
   "metadata": {},
   "outputs": [
    {
     "data": {
      "text/plain": [
       "'ChIJN3Hlfls62jARSZlQh4DGu88'"
      ]
     },
     "execution_count": 64,
     "metadata": {},
     "output_type": "execute_result"
    }
   ],
   "source": [
    "des_pl"
   ]
  },
  {
   "cell_type": "code",
   "execution_count": 67,
   "metadata": {
    "scrolled": false
   },
   "outputs": [],
   "source": [
    "url = f'https://maps.googleapis.com/maps/api/directions/json?origin=place_id:{org_pl}&destination=place_id:{des_pl}&departure_time={dp_time}&key={KEY}'\n",
    "#url = f'https://maps.googleapis.com/maps/api/directions/json?origin=place_id:{org_pl}&destination=place_id:{des_pl}&key={KEY}'\n",
    "\n",
    "res = requests.get(url).json()"
   ]
  },
  {
   "cell_type": "code",
   "execution_count": 68,
   "metadata": {},
   "outputs": [
    {
     "data": {
      "text/plain": [
       "{'error_message': 'departure_time is in the past. Traffic information is only available for future and current times.',\n",
       " 'geocoded_waypoints': [{'geocoder_status': 'OK',\n",
       "   'place_id': 'ChIJiWnCLZo62jAROsJFeDBcCSM',\n",
       "   'types': ['route']},\n",
       "  {'geocoder_status': 'OK',\n",
       "   'place_id': 'ChIJN3Hlfls62jARSZlQh4DGu88',\n",
       "   'types': ['route']}],\n",
       " 'routes': [],\n",
       " 'status': 'INVALID_REQUEST'}"
      ]
     },
     "execution_count": 68,
     "metadata": {},
     "output_type": "execute_result"
    }
   ],
   "source": [
    "res"
   ]
  },
  {
   "cell_type": "code",
   "execution_count": 49,
   "metadata": {
    "scrolled": true
   },
   "outputs": [
    {
     "data": {
      "text/plain": [
       "{'distance': {'text': '5.6 km', 'value': 5644},\n",
       " 'duration': {'text': '11 mins', 'value': 684},\n",
       " 'end_address': 'Unnamed Road, Tambon Si Phum, Amphoe Mueang Chiang Mai, Chang Wat Chiang Mai 50200, Thailand',\n",
       " 'end_location': {'lat': 18.7902368, 'lng': 98.98468009999999},\n",
       " 'start_address': 'Khuang Sing Rd, Tambon Chang Phueak, Amphoe Mueang Chiang Mai, Chang Wat Chiang Mai 50300, Thailand',\n",
       " 'start_location': {'lat': 18.8118716, 'lng': 98.9797048},\n",
       " 'steps': [{'distance': {'text': '69 m', 'value': 69},\n",
       "   'duration': {'text': '1 min', 'value': 22},\n",
       "   'end_location': {'lat': 18.8118421, 'lng': 98.9803592},\n",
       "   'html_instructions': 'Head <b>east</b> on <b>ถนน ข่วงสิงห์</b> toward <b>Anusawaree Singha S. 3</b>',\n",
       "   'polyline': {'points': 'eeyqBc~b{Q?W@a@?MB{@'},\n",
       "   'start_location': {'lat': 18.8118716, 'lng': 98.9797048},\n",
       "   'travel_mode': 'DRIVING'},\n",
       "  {'distance': {'text': '23 m', 'value': 23},\n",
       "   'duration': {'text': '1 min', 'value': 13},\n",
       "   'end_location': {'lat': 18.8116334, 'lng': 98.9803718},\n",
       "   'html_instructions': 'Turn <b>right</b> toward <b>ทางคู่ขนานถนน สายอ.แม่ริม เชียงใหม่-ลำปาง</b>',\n",
       "   'maneuver': 'turn-right',\n",
       "   'polyline': {'points': '_eyqBgbc{Qh@A'},\n",
       "   'start_location': {'lat': 18.8118421, 'lng': 98.9803592},\n",
       "   'travel_mode': 'DRIVING'},\n",
       "  {'distance': {'text': '0.4 km', 'value': 370},\n",
       "   'duration': {'text': '1 min', 'value': 48},\n",
       "   'end_location': {'lat': 18.8120783, 'lng': 98.98385139999999},\n",
       "   'html_instructions': 'Turn <b>left</b> onto <b>ทางคู่ขนานถนน สายอ.แม่ริม เชียงใหม่-ลำปาง</b>',\n",
       "   'maneuver': 'turn-left',\n",
       "   'polyline': {'points': 'ucyqBibc{QIy@Gk@KmASmDGcAIgACc@O}CAG'},\n",
       "   'start_location': {'lat': 18.8116334, 'lng': 98.9803718},\n",
       "   'travel_mode': 'DRIVING'},\n",
       "  {'distance': {'text': '1.6 km', 'value': 1623},\n",
       "   'duration': {'text': '2 mins', 'value': 141},\n",
       "   'end_location': {'lat': 18.8058204, 'lng': 98.97086739999999},\n",
       "   'html_instructions': 'Sharp <b>right</b> onto <b>ทางคู่ขนานถนน ซูเปอร์ไฮเวย์</b>/<wbr/><b>ทางคู่ขนานถนน สายอ.แม่ริม เชียงใหม่-ลำปาง</b>',\n",
       "   'maneuver': 'turn-sharp-right',\n",
       "   'polyline': {'points': 'ofyqBaxc{QLEJCNCDAFCB?HCNEN`C@JJxAN`CDr@Bl@Db@Db@JhAHhA@DVrBVjBt@bFRhA`AbDVx@Vp@z@~BbApBn@pANZ^t@?@h@`ANVrAdCf@v@TTfArA`ApAv@x@zBzBt@l@JHHFJJBF'},\n",
       "   'start_location': {'lat': 18.8120783, 'lng': 98.98385139999999},\n",
       "   'travel_mode': 'DRIVING'},\n",
       "  {'distance': {'text': '0.3 km', 'value': 331},\n",
       "   'duration': {'text': '1 min', 'value': 27},\n",
       "   'end_location': {'lat': 18.8033878, 'lng': 98.96906729999999},\n",
       "   'html_instructions': 'Keep <b>left</b>',\n",
       "   'maneuver': 'keep-left',\n",
       "   'polyline': {'points': 'k_xqB}fa{Qx@n@j@d@bAz@x@j@XNt@d@@?jBfAj@ZVN'},\n",
       "   'start_location': {'lat': 18.8058204, 'lng': 98.97086739999999},\n",
       "   'travel_mode': 'DRIVING'},\n",
       "  {'distance': {'text': '0.3 km', 'value': 267},\n",
       "   'duration': {'text': '1 min', 'value': 25},\n",
       "   'end_location': {'lat': 18.8011946, 'lng': 98.968159},\n",
       "   'html_instructions': 'Continue straight',\n",
       "   'maneuver': 'straight',\n",
       "   'polyline': {'points': 'epwqBu{`{QhBv@ZNvB|@b@Pb@Lp@TR@LALANC'},\n",
       "   'start_location': {'lat': 18.8033878, 'lng': 98.96906729999999},\n",
       "   'travel_mode': 'DRIVING'},\n",
       "  {'distance': {'text': '1.2 km', 'value': 1212},\n",
       "   'duration': {'text': '2 mins', 'value': 145},\n",
       "   'end_location': {'lat': 18.7960788, 'lng': 98.9782893},\n",
       "   'html_instructions': 'Turn <b>left</b> onto <b>Route 1004</b>',\n",
       "   'maneuver': 'turn-left',\n",
       "   'polyline': {'points': 'mbwqB_v`{Qv@iB`@aARi@jBsEXq@Zq@x@qBPc@\\\\w@Rc@LWHOFObA_C`@aATi@JURe@Rc@p@uAn@sA`@eAJ]\\\\_APc@\\\\w@fAaCVi@l@yADMBKNe@H]Fa@Fu@'},\n",
       "   'start_location': {'lat': 18.8011946, 'lng': 98.968159},\n",
       "   'travel_mode': 'DRIVING'},\n",
       "  {'distance': {'text': '0.6 km', 'value': 612},\n",
       "   'duration': {'text': '1 min', 'value': 80},\n",
       "   'end_location': {'lat': 18.7957843, 'lng': 98.98408309999999},\n",
       "   'html_instructions': 'At Food &amp; Coffee, continue onto <b>ถนน มณีนพรัตน์</b>',\n",
       "   'polyline': {'points': 'obvqBiub{QD]DM@IBu@@c@@y@@Y?S?]@U@}@?KDuB@a@?i@@A?O?[@y@@G?E?EAGDqC?E?M@Q?Y@S?E?A?S?C?C@u@@U@iA@U@S'},\n",
       "   'start_location': {'lat': 18.7960788, 'lng': 98.9782893},\n",
       "   'travel_mode': 'DRIVING'},\n",
       "  {'distance': {'text': '39 m', 'value': 39},\n",
       "   'duration': {'text': '1 min', 'value': 10},\n",
       "   'end_location': {'lat': 18.7954346, 'lng': 98.9840686},\n",
       "   'html_instructions': 'Turn <b>right</b> toward <b>ถนน ศรีภูมิ</b>',\n",
       "   'maneuver': 'turn-right',\n",
       "   'polyline': {'points': 's`vqBoyc{QdA@'},\n",
       "   'start_location': {'lat': 18.7957843, 'lng': 98.98408309999999},\n",
       "   'travel_mode': 'DRIVING'},\n",
       "  {'distance': {'text': '0.2 km', 'value': 246},\n",
       "   'duration': {'text': '1 min', 'value': 27},\n",
       "   'end_location': {'lat': 18.7955325, 'lng': 98.9817302},\n",
       "   'html_instructions': 'Turn <b>right</b> onto <b>ถนน ศรีภูมิ</b>',\n",
       "   'maneuver': 'turn-right',\n",
       "   'polyline': {'points': 'm~uqBmyc{QCfACdA?b@?b@Ar@Cp@An@AVAdA?D?B'},\n",
       "   'start_location': {'lat': 18.7954346, 'lng': 98.9840686},\n",
       "   'travel_mode': 'DRIVING'},\n",
       "  {'distance': {'text': '0.3 km', 'value': 274},\n",
       "   'duration': {'text': '1 min', 'value': 36},\n",
       "   'end_location': {'lat': 18.7930785, 'lng': 98.9819267},\n",
       "   'html_instructions': 'Turn <b>left</b> onto <b>ถนน สิงหราช</b>',\n",
       "   'maneuver': 'turn-left',\n",
       "   'polyline': {'points': 'a_vqByjc{QfDML?\\\\AVAv@EZA\\\\CR?R?p@Cp@E'},\n",
       "   'start_location': {'lat': 18.7955325, 'lng': 98.9817302},\n",
       "   'travel_mode': 'DRIVING'},\n",
       "  {'distance': {'text': '0.2 km', 'value': 224},\n",
       "   'duration': {'text': '1 min', 'value': 34},\n",
       "   'end_location': {'lat': 18.7930811, 'lng': 98.9840491},\n",
       "   'html_instructions': 'Turn <b>left</b> onto <b>ถนนเวียงแก้ว</b>',\n",
       "   'maneuver': 'turn-left',\n",
       "   'polyline': {'points': 'wouqBalc{QA_@A[A[?Q?_@CeB@gABgABg@'},\n",
       "   'start_location': {'lat': 18.7930785, 'lng': 98.9819267},\n",
       "   'travel_mode': 'DRIVING'},\n",
       "  {'distance': {'text': '0.3 km', 'value': 319},\n",
       "   'duration': {'text': '1 min', 'value': 67},\n",
       "   'end_location': {'lat': 18.7902254, 'lng': 98.98434600000002},\n",
       "   'html_instructions': 'Turn <b>right</b> onto <b>ถ. ข้างเรือนจำ</b>',\n",
       "   'maneuver': 'turn-right',\n",
       "   'polyline': {'points': 'wouqBiyc{QlCS`BMTATAx@EbCGjAEP?@A'},\n",
       "   'start_location': {'lat': 18.7930811, 'lng': 98.9840491},\n",
       "   'travel_mode': 'DRIVING'},\n",
       "  {'distance': {'text': '35 m', 'value': 35},\n",
       "   'duration': {'text': '1 min', 'value': 9},\n",
       "   'end_location': {'lat': 18.7902368, 'lng': 98.98468009999999},\n",
       "   'html_instructions': 'Turn <b>left</b><div style=\"font-size:0.9em\">Restricted usage road</div>',\n",
       "   'maneuver': 'turn-left',\n",
       "   'polyline': {'points': '}}tqBe{c{QAaA'},\n",
       "   'start_location': {'lat': 18.7902254, 'lng': 98.98434600000002},\n",
       "   'travel_mode': 'DRIVING'}],\n",
       " 'traffic_speed_entry': [],\n",
       " 'via_waypoint': []}"
      ]
     },
     "execution_count": 49,
     "metadata": {},
     "output_type": "execute_result"
    }
   ],
   "source": [
    "res['routes'][0]['legs'][0]"
   ]
  },
  {
   "cell_type": "code",
   "execution_count": 7,
   "metadata": {},
   "outputs": [],
   "source": [
    "city_json = glob(b_folder + '*.json')[0]\n",
    "with open(city_json) as f:\n",
    "    cities_info = json.load(f)\n",
    "    \n",
    "city_info = cities_info[0]\n",
    "\n",
    "\n",
    "cm_info = {'Country': 'Thailand',\n",
    " 'City': 'Chiang Mai',\n",
    " 'City (ASCII)': 'Chiang Mai',\n",
    " 'Region': 'Chiang Mai',\n",
    " 'Region (ASCII)': 'Chiang Mai',\n",
    " 'Population': '200952',\n",
    " 'Latitude': '18.7904',\n",
    " 'Longitude': '98.9847',\n",
    " 'Time Zone': 'Asia/Bangkok'}"
   ]
  },
  {
   "cell_type": "code",
   "execution_count": 16,
   "metadata": {},
   "outputs": [
    {
     "data": {
      "text/plain": [
       "{'Country': 'Viet Nam',\n",
       " 'City': 'Bÿc Giang',\n",
       " 'City (ASCII)': 'Bac Giang',\n",
       " 'Region': 'Bÿc Giang',\n",
       " 'Region (ASCII)': 'Bac Giang',\n",
       " 'Population': '53728',\n",
       " 'Latitude': '21.2731',\n",
       " 'Longitude': '106.1946',\n",
       " 'Time Zone': 'Asia/Ho_Chi_Minh'}"
      ]
     },
     "execution_count": 16,
     "metadata": {},
     "output_type": "execute_result"
    }
   ],
   "source": [
    "city_info"
   ]
  },
  {
   "cell_type": "code",
   "execution_count": 26,
   "metadata": {},
   "outputs": [],
   "source": [
    "city_info = cm_info\n",
    "\n",
    "x_lon = city_info['Longitude']\n",
    "y_lat = city_info['Latitude']\n",
    "\n",
    "x_cen = merc_x(x_lon)\n",
    "y_cen = merc_y(y_lat)\n",
    "\n",
    "# define the width of the bounding box\n",
    "width = 1E3\n",
    "xy_arr = get_b_box(x_cen, y_cen, width)\n",
    "# convert to (lat, long)\n",
    "p0 = to_latlon(xy_arr[0])\n",
    "p1 = to_latlon(xy_arr[-1])"
   ]
  },
  {
   "cell_type": "code",
   "execution_count": 24,
   "metadata": {},
   "outputs": [
    {
     "data": {
      "text/plain": [
       "array([ 21.2731, 106.1946])"
      ]
     },
     "execution_count": 24,
     "metadata": {},
     "output_type": "execute_result"
    }
   ],
   "source": [
    "to_latlon((x_cen, y_cen))"
   ]
  },
  {
   "cell_type": "code",
   "execution_count": 27,
   "metadata": {},
   "outputs": [
    {
     "data": {
      "text/plain": [
       "(98.9802, 18.7861, 98.9892, 18.7947)"
      ]
     },
     "execution_count": 27,
     "metadata": {},
     "output_type": "execute_result"
    }
   ],
   "source": [
    "(p1[1].round(4), p1[0].round(4), p0[1].round(4), p0[0].round(4) )"
   ]
  },
  {
   "cell_type": "code",
   "execution_count": 21,
   "metadata": {},
   "outputs": [
    {
     "data": {
      "text/plain": [
       "(21.2773, 106.1991, 21.2689, 106.1901)"
      ]
     },
     "execution_count": 21,
     "metadata": {},
     "output_type": "execute_result"
    }
   ],
   "source": [
    "(p0[0].round(4), p0[1].round(4), p1[0].round(4), p1[1].round(4) )"
   ]
  },
  {
   "cell_type": "code",
   "execution_count": 2,
   "metadata": {},
   "outputs": [],
   "source": [
    "dataset = Dataset('Chiang Mai')\n",
    "dataset.load_()"
   ]
  },
  {
   "cell_type": "code",
   "execution_count": 62,
   "metadata": {},
   "outputs": [],
   "source": []
  },
  {
   "cell_type": "code",
   "execution_count": 58,
   "metadata": {},
   "outputs": [
    {
     "data": {
      "text/plain": [
       "latitude      19.8946\n",
       "longitude     105.114\n",
       "confidence         52\n",
       "lat_km           2246\n",
       "long_km         11701\n",
       "distance      694.093\n",
       "power           20.52\n",
       "count               1\n",
       "country       Vietnam\n",
       "Name: 2002-07-04 13:04:00, dtype: object"
      ]
     },
     "execution_count": 58,
     "metadata": {},
     "output_type": "execute_result"
    }
   ],
   "source": [
    "row"
   ]
  },
  {
   "cell_type": "code",
   "execution_count": 80,
   "metadata": {},
   "outputs": [
    {
     "name": "stdout",
     "output_type": "stream",
     "text": [
      "http://www.overpass-api.de/api/xapi?*[landuse=*][bbox=100.0529,15.0588,100.0619,15.0676]\n"
     ]
    }
   ],
   "source": [
    "row = dataset.fire.iloc[2000]\n",
    "\n",
    "# convert to mercator\n",
    "x_cen = merc_x(row['longitude'])\n",
    "y_cen = merc_y(row['latitude'])\n",
    "# define the width of the bounding box\n",
    "width = 1E3\n",
    "\n",
    "\n",
    "xy_arr = get_b_box(x_cen, y_cen, width)\n",
    "# convert to (lat, long)\n",
    "p0 = to_latlon(xy_arr[0])\n",
    "p1 = to_latlon(xy_arr[-1])\n",
    "\n",
    "url = f'http://www.overpass-api.de/api/xapi?*[landuse=*][bbox={p1[1].round(4)},{p1[0].round(4)},{p0[1].round(4)},{p0[0].round(4) }]'\n",
    "print(url)"
   ]
  },
  {
   "cell_type": "code",
   "execution_count": 81,
   "metadata": {},
   "outputs": [
    {
     "data": {
      "text/plain": [
       "{'note': 'The data included in this document is from www.openstreetmap.org. The data is made available under ODbL.',\n",
       " 'meta': {'@osm_base': '2020-09-27T17:19:02Z'},\n",
       " '@version': '0.6',\n",
       " '@generator': 'Overpass API 0.7.56.6 474850e8'}"
      ]
     },
     "execution_count": 81,
     "metadata": {},
     "output_type": "execute_result"
    }
   ],
   "source": [
    "# request for land use information\n",
    "res = requests.get(url)\n",
    "# convert to Element Tree\n",
    "root = ET.fromstring(res.text)\n",
    "# convert to dictionary\n",
    "res_json = etree_to_dict(root)\n",
    "\n",
    "res_json['osm']"
   ]
  },
  {
   "cell_type": "code",
   "execution_count": 11,
   "metadata": {},
   "outputs": [],
   "source": [
    "import xml.etree.ElementTree as ET"
   ]
  },
  {
   "cell_type": "code",
   "execution_count": 3,
   "metadata": {},
   "outputs": [],
   "source": [
    "res = requests.get('http://www.overpass-api.de/api/xapi?*[landuse=*][bbox=10.52412,52.27387,10.52635,52.27505]')"
   ]
  },
  {
   "cell_type": "code",
   "execution_count": 64,
   "metadata": {},
   "outputs": [
    {
     "data": {
      "text/plain": [
       "{'note': 'The data included in this document is from www.openstreetmap.org. The data is made available under ODbL.',\n",
       " 'meta': {'@osm_base': '2020-09-27T17:16:03Z'},\n",
       " '@version': '0.6',\n",
       " '@generator': 'Overpass API 0.7.56.6 474850e8'}"
      ]
     },
     "execution_count": 64,
     "metadata": {},
     "output_type": "execute_result"
    }
   ],
   "source": []
  },
  {
   "cell_type": "code",
   "execution_count": 53,
   "metadata": {},
   "outputs": [],
   "source": [
    "def return_tag(d):\n",
    "    \n",
    "    if type(d) is dict:\n",
    "        for k in d.keys():\n",
    "            print(k)\n",
    "            if k =='tag':\n",
    "                return d[k]\n",
    "            else:\n",
    "                yield return_tag(d[k])\n",
    "        \n",
    "    "
   ]
  },
  {
   "cell_type": "code",
   "execution_count": 55,
   "metadata": {},
   "outputs": [
    {
     "name": "stdout",
     "output_type": "stream",
     "text": [
      "note\n",
      "<generator object return_tag at 0x000001EEE0DC7548>\n",
      "meta\n",
      "<generator object return_tag at 0x000001EEE0DC7648>\n",
      "node\n",
      "<generator object return_tag at 0x000001EEE0DC76C8>\n",
      "way\n",
      "<generator object return_tag at 0x000001EEE0DC7648>\n",
      "@version\n",
      "<generator object return_tag at 0x000001EEE0DC76C8>\n",
      "@generator\n",
      "<generator object return_tag at 0x000001EEE0DC7648>\n"
     ]
    }
   ],
   "source": [
    "for result in return_tag(res_json['osm']):\n",
    "    print(result)"
   ]
  },
  {
   "cell_type": "code",
   "execution_count": 23,
   "metadata": {},
   "outputs": [],
   "source": [
    "from collections import defaultdict\n",
    "\n",
    "def etree_to_dict(t)->dict:\n",
    "    \"\"\"Convert XML root to dictionary\n",
    "    \n",
    "    https://stackoverflow.com/questions/2148119/how-to-convert-an-xml-string-to-a-dictionary\n",
    "        \n",
    "    \"\"\"\n",
    "    d = {t.tag: {} if t.attrib else None}\n",
    "    children = list(t)\n",
    "    if children:\n",
    "        dd = defaultdict(list)\n",
    "        for dc in map(etree_to_dict, children):\n",
    "            for k, v in dc.items():\n",
    "                dd[k].append(v)\n",
    "        d = {t.tag: {k:v[0] if len(v) == 1 else v for k, v in dd.items()}}\n",
    "    if t.attrib:\n",
    "        d[t.tag].update(('@' + k, v) for k, v in t.attrib.items())\n",
    "    if t.text:\n",
    "        text = t.text.strip()\n",
    "        if children or t.attrib:\n",
    "            if text:\n",
    "              d[t.tag]['#text'] = text\n",
    "        else:\n",
    "            d[t.tag] = text\n",
    "    return d"
   ]
  },
  {
   "cell_type": "code",
   "execution_count": 21,
   "metadata": {},
   "outputs": [
    {
     "data": {
      "text/plain": [
       "{'osm': {'note': 'The data included in this document is from www.openstreetmap.org. The data is made available under ODbL.',\n",
       "  'meta': {'@osm_base': '2020-09-27T16:44:02Z'},\n",
       "  'node': [{'@id': '256777112', '@lat': '52.2767634', '@lon': '10.5180260'},\n",
       "   {'@id': '300286165', '@lat': '52.2751073', '@lon': '10.5246400'},\n",
       "   {'@id': '300286166', '@lat': '52.2749894', '@lon': '10.5197503'},\n",
       "   {'@id': '300286169', '@lat': '52.2758705', '@lon': '10.5185683'},\n",
       "   {'@id': '300286527', '@lat': '52.2767596', '@lon': '10.5186417'},\n",
       "   {'@id': '300286528', '@lat': '52.2765568', '@lon': '10.5169229'},\n",
       "   {'@id': '300286532', '@lat': '52.2759752', '@lon': '10.5153374'},\n",
       "   {'@id': '300286533', '@lat': '52.2759473', '@lon': '10.5133626'},\n",
       "   {'@id': '300286534', '@lat': '52.2753936', '@lon': '10.5131307'},\n",
       "   {'@id': '300286535', '@lat': '52.2748482', '@lon': '10.5133345'},\n",
       "   {'@id': '300287756', '@lat': '52.2737430', '@lon': '10.5138246'},\n",
       "   {'@id': '300287758', '@lat': '52.2734672', '@lon': '10.5142578'},\n",
       "   {'@id': '300287759', '@lat': '52.2729729', '@lon': '10.5157557'},\n",
       "   {'@id': '300287760', '@lat': '52.2725529', '@lon': '10.5185421'},\n",
       "   {'@id': '300287761', '@lat': '52.2728537', '@lon': '10.5196436'},\n",
       "   {'@id': '300287763', '@lat': '52.2733356', '@lon': '10.5203173'},\n",
       "   {'@id': '300287765', '@lat': '52.2734605', '@lon': '10.5225178'},\n",
       "   {'@id': '300287945', '@lat': '52.2736573', '@lon': '10.5233813'},\n",
       "   {'@id': '300287946', '@lat': '52.2735211', '@lon': '10.5237927'},\n",
       "   {'@id': '300288686', '@lat': '52.2731886', '@lon': '10.5241492'},\n",
       "   {'@id': '394003878', '@lat': '52.2728705', '@lon': '10.5245828'},\n",
       "   {'@id': '394003879', '@lat': '52.2733278', '@lon': '10.5209913'},\n",
       "   {'@id': '394003880', '@lat': '52.2727430', '@lon': '10.5173677'},\n",
       "   {'@id': '394003881', '@lat': '52.2728574', '@lon': '10.5161764'},\n",
       "   {'@id': '394003884', '@lat': '52.2725979', '@lon': '10.5190825'},\n",
       "   {'@id': '394003893', '@lat': '52.2736619', '@lon': '10.5235299'},\n",
       "   {'@id': '394003894', '@lat': '52.2733097', '@lon': '10.5214772'},\n",
       "   {'@id': '394034379', '@lat': '52.2740273', '@lon': '10.5136733'},\n",
       "   {'@id': '394034381', '@lat': '52.2730415', '@lon': '10.5156245'},\n",
       "   {'@id': '394034382', '@lat': '52.2732042', '@lon': '10.5147925'},\n",
       "   {'@id': '394034383', '@lat': '52.2739090', '@lon': '10.5137418'},\n",
       "   {'@id': '442955974', '@lat': '52.2755051', '@lon': '10.5135643'},\n",
       "   {'@id': '463257438', '@lat': '52.2730621', '@lon': '10.5199135'},\n",
       "   {'@id': '463257439', '@lat': '52.2732830', '@lon': '10.5201867'},\n",
       "   {'@id': '463257440', '@lat': '52.2731917', '@lon': '10.5200697'},\n",
       "   {'@id': '463257441', '@lat': '52.2733416', '@lon': '10.5204089'},\n",
       "   {'@id': '463257443', '@lat': '52.2735293', '@lon': '10.5226824'},\n",
       "   {'@id': '463257444', '@lat': '52.2736326', '@lon': '10.5235281'},\n",
       "   {'@id': '463257445', '@lat': '52.2736302', '@lon': '10.5236249'},\n",
       "   {'@id': '463257452', '@lat': '52.2728487', '@lon': '10.5245646'},\n",
       "   {'@id': '463257453', '@lat': '52.2728192', '@lon': '10.5245619'},\n",
       "   {'@id': '463257454', '@lat': '52.2727928', '@lon': '10.5245812'},\n",
       "   {'@id': '463257455', '@lat': '52.2727700', '@lon': '10.5246349'},\n",
       "   {'@id': '463257462', '@lat': '52.2735246', '@lon': '10.5237873'},\n",
       "   {'@id': '571262213', '@lat': '52.2742025', '@lon': '10.5246539'},\n",
       "   {'@id': '632686367', '@lat': '52.2735094', '@lon': '10.5247797'},\n",
       "   {'@id': '1246617767', '@lat': '52.2753281', '@lon': '10.5198147'},\n",
       "   {'@id': '1797716310', '@lat': '52.2760833', '@lon': '10.5155914'},\n",
       "   {'@id': '1797716317', '@lat': '52.2761790', '@lon': '10.5168651'},\n",
       "   {'@id': '1797716320', '@lat': '52.2762015', '@lon': '10.5162608'},\n",
       "   {'@id': '1797716337', '@lat': '52.2763721', '@lon': '10.5186578'},\n",
       "   {'@id': '1797716369', '@lat': '52.2764353', '@lon': '10.5185975'},\n",
       "   {'@id': '1797716374', '@lat': '52.2765663', '@lon': '10.5162422'},\n",
       "   {'@id': '1797716389', '@lat': '52.2768193', '@lon': '10.5162420'},\n",
       "   {'@id': '1797721885', '@lat': '52.2759836', '@lon': '10.5185900'},\n",
       "   {'@id': '2312275566', '@lat': '52.2760057', '@lon': '10.5154423'},\n",
       "   {'@id': '2312275568', '@lat': '52.2760605', '@lon': '10.5154632'},\n",
       "   {'@id': '2539289314', '@lat': '52.2735543', '@lon': '10.5255053'},\n",
       "   {'@id': '2539289315', '@lat': '52.2738336', '@lon': '10.5288326'},\n",
       "   {'@id': '2539289317', '@lat': '52.2742107', '@lon': '10.5248192'},\n",
       "   {'@id': '2539289318', '@lat': '52.2742185', '@lon': '10.5254696'},\n",
       "   {'@id': '2539289319', '@lat': '52.2742312', '@lon': '10.5265956'},\n",
       "   {'@id': '2539289320', '@lat': '52.2745210', '@lon': '10.5286244'},\n",
       "   {'@id': '2807778107', '@lat': '52.2729159', '@lon': '10.5158411'},\n",
       "   {'@id': '2807778115', '@lat': '52.2733196', '@lon': '10.5202510'},\n",
       "   {'@id': '2807778167', '@lat': '52.2755074', '@lon': '10.5192375'},\n",
       "   {'@id': '2807837411', '@lat': '52.2762011', '@lon': '10.5165674'},\n",
       "   {'@id': '2807837417', '@lat': '52.2765703', '@lon': '10.5165785'},\n",
       "   {'@id': '2807837423', '@lat': '52.2767802', '@lon': '10.5180198'},\n",
       "   {'@id': '3276118195', '@lat': '52.2726763', '@lon': '10.5249140'},\n",
       "   {'@id': '3276118196', '@lat': '52.2727501', '@lon': '10.5249371'},\n",
       "   {'@id': '3276118198', '@lat': '52.2729387', '@lon': '10.5249182'},\n",
       "   {'@id': '3276124551', '@lat': '52.2745262', '@lon': '10.5247675'},\n",
       "   {'@id': '5464993623', '@lat': '52.2736998', '@lon': '10.5272383'},\n",
       "   {'@id': '5464993722', '@lat': '52.2736711', '@lon': '10.5268973'},\n",
       "   {'@id': '5885517867', '@lat': '52.2753428', '@lon': '10.5197175'},\n",
       "   {'@id': '5885517871', '@lat': '52.2760587', '@lon': '10.5186031'},\n",
       "   {'@id': '5885517875', '@lat': '52.2757409', '@lon': '10.5187932'},\n",
       "   {'@id': '5908079332', '@lat': '52.2742311', '@lon': '10.5265853'},\n",
       "   {'@id': '5912381723', '@lat': '52.2743073', '@lon': '10.5271281'},\n",
       "   {'@id': '5912381724', '@lat': '52.2744946', '@lon': '10.5284394'},\n",
       "   {'@id': '6041285854', '@lat': '52.2762074', '@lon': '10.5186291'},\n",
       "   {'@id': '6185860393', '@lat': '52.2759553', '@lon': '10.5139254'},\n",
       "   {'@id': '6185860394', '@lat': '52.2759511', '@lon': '10.5136287'},\n",
       "   {'@id': '6185949664', '@lat': '52.2759729', '@lon': '10.5151719'},\n",
       "   {'@id': '7130674639', '@lat': '52.2734756', '@lon': '10.5247879'}],\n",
       "  'way': [{'nd': [{'@ref': '571262213'},\n",
       "     {'@ref': '632686367'},\n",
       "     {'@ref': '2539289314'},\n",
       "     {'@ref': '5464993722'},\n",
       "     {'@ref': '5464993623'},\n",
       "     {'@ref': '2539289315'},\n",
       "     {'@ref': '2539289320'},\n",
       "     {'@ref': '5912381724'},\n",
       "     {'@ref': '5912381723'},\n",
       "     {'@ref': '2539289319'},\n",
       "     {'@ref': '5908079332'},\n",
       "     {'@ref': '2539289318'},\n",
       "     {'@ref': '2539289317'},\n",
       "     {'@ref': '571262213'}],\n",
       "    'tag': {'@k': 'landuse', '@v': 'residential'},\n",
       "    '@id': '27092106'},\n",
       "   {'nd': [{'@ref': '632686367'},\n",
       "     {'@ref': '571262213'},\n",
       "     {'@ref': '3276124551'},\n",
       "     {'@ref': '300286165'},\n",
       "     {'@ref': '300286166'},\n",
       "     {'@ref': '1246617767'},\n",
       "     {'@ref': '5885517867'},\n",
       "     {'@ref': '2807778167'},\n",
       "     {'@ref': '5885517875'},\n",
       "     {'@ref': '300286169'},\n",
       "     {'@ref': '1797721885'},\n",
       "     {'@ref': '5885517871'},\n",
       "     {'@ref': '6041285854'},\n",
       "     {'@ref': '1797716337'},\n",
       "     {'@ref': '1797716369'},\n",
       "     {'@ref': '300286527'},\n",
       "     {'@ref': '256777112'},\n",
       "     {'@ref': '2807837423'},\n",
       "     {'@ref': '1797716389'},\n",
       "     {'@ref': '1797716374'},\n",
       "     {'@ref': '2807837417'},\n",
       "     {'@ref': '300286528'},\n",
       "     {'@ref': '1797716317'},\n",
       "     {'@ref': '2807837411'},\n",
       "     {'@ref': '1797716320'},\n",
       "     {'@ref': '1797716310'},\n",
       "     {'@ref': '2312275568'},\n",
       "     {'@ref': '2312275566'},\n",
       "     {'@ref': '300286532'},\n",
       "     {'@ref': '6185949664'},\n",
       "     {'@ref': '6185860393'},\n",
       "     {'@ref': '6185860394'},\n",
       "     {'@ref': '300286533'},\n",
       "     {'@ref': '442955974'},\n",
       "     {'@ref': '300286534'},\n",
       "     {'@ref': '300286535'},\n",
       "     {'@ref': '394034379'},\n",
       "     {'@ref': '394034383'},\n",
       "     {'@ref': '300287756'},\n",
       "     {'@ref': '300287758'},\n",
       "     {'@ref': '394034382'},\n",
       "     {'@ref': '394034381'},\n",
       "     {'@ref': '300287759'},\n",
       "     {'@ref': '2807778107'},\n",
       "     {'@ref': '394003881'},\n",
       "     {'@ref': '394003880'},\n",
       "     {'@ref': '300287760'},\n",
       "     {'@ref': '394003884'},\n",
       "     {'@ref': '300287761'},\n",
       "     {'@ref': '463257438'},\n",
       "     {'@ref': '463257440'},\n",
       "     {'@ref': '463257439'},\n",
       "     {'@ref': '2807778115'},\n",
       "     {'@ref': '300287763'},\n",
       "     {'@ref': '463257441'},\n",
       "     {'@ref': '394003879'},\n",
       "     {'@ref': '394003894'},\n",
       "     {'@ref': '300287765'},\n",
       "     {'@ref': '463257443'},\n",
       "     {'@ref': '300287945'},\n",
       "     {'@ref': '394003893'},\n",
       "     {'@ref': '463257444'},\n",
       "     {'@ref': '463257445'},\n",
       "     {'@ref': '463257462'},\n",
       "     {'@ref': '300287946'},\n",
       "     {'@ref': '300288686'},\n",
       "     {'@ref': '394003878'},\n",
       "     {'@ref': '463257452'},\n",
       "     {'@ref': '463257453'},\n",
       "     {'@ref': '463257454'},\n",
       "     {'@ref': '463257455'},\n",
       "     {'@ref': '3276118195'},\n",
       "     {'@ref': '3276118196'},\n",
       "     {'@ref': '3276118198'},\n",
       "     {'@ref': '7130674639'},\n",
       "     {'@ref': '632686367'}],\n",
       "    'tag': {'@k': 'landuse', '@v': 'residential'},\n",
       "    '@id': '27352351'}],\n",
       "  '@version': '0.6',\n",
       "  '@generator': 'Overpass API 0.7.56.6 474850e8'}}"
      ]
     },
     "execution_count": 21,
     "metadata": {},
     "output_type": "execute_result"
    }
   ],
   "source": [
    "etree_to_dict(root)"
   ]
  },
  {
   "cell_type": "code",
   "execution_count": null,
   "metadata": {},
   "outputs": [],
   "source": []
  }
 ],
 "metadata": {
  "kernelspec": {
   "display_name": "Python 3",
   "language": "python",
   "name": "python3"
  },
  "language_info": {
   "codemirror_mode": {
    "name": "ipython",
    "version": 3
   },
   "file_extension": ".py",
   "mimetype": "text/x-python",
   "name": "python",
   "nbconvert_exporter": "python",
   "pygments_lexer": "ipython3",
   "version": "3.7.5"
  },
  "toc": {
   "base_numbering": 1,
   "nav_menu": {},
   "number_sections": true,
   "sideBar": true,
   "skip_h1_title": false,
   "title_cell": "Table of Contents",
   "title_sidebar": "Contents",
   "toc_cell": false,
   "toc_position": {},
   "toc_section_display": true,
   "toc_window_display": false
  }
 },
 "nbformat": 4,
 "nbformat_minor": 4
}
