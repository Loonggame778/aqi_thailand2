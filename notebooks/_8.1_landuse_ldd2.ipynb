{
 "cells": [
  {
   "cell_type": "code",
   "execution_count": 58,
   "metadata": {},
   "outputs": [
    {
     "name": "stdout",
     "output_type": "stream",
     "text": [
      "The autoreload extension is already loaded. To reload it, use:\n",
      "  %reload_ext autoreload\n"
     ]
    }
   ],
   "source": [
    "#  Load the \"autoreload\" extension so that code can change\n",
    "%load_ext autoreload\n",
    "%reload_ext autoreload\n",
    "#  always reload modules so that as you change code in src, it gets loaded\n",
    "%autoreload 2\n",
    "%matplotlib inline\n",
    "\n",
    "import sys\n",
    "sys.path.append('../')\n",
    "import src\n",
    "from src.imports import *\n",
    "from src.gen_functions import *\n",
    "from src.features.map_dataset import MapDataset\n",
    "# import the Dataset object class\n",
    "from src.features.dataset import Dataset\n",
    "from src.features.landuse import *\n",
    "from src.visualization.mapper import *\n",
    "from src.visualization.vis_data import *\n",
    "\n",
    "from src.data.fire_data import *\n",
    "\n",
    "import shutil\n",
    "import pyproj"
   ]
  },
  {
   "cell_type": "markdown",
   "metadata": {},
   "source": [
    "# Separate Fire data into year, select country and Add provinces"
   ]
  },
  {
   "cell_type": "code",
   "execution_count": 38,
   "metadata": {},
   "outputs": [],
   "source": [
    "map_folder = '../data/world_maps/'\n",
    "mfire_folder = '../data/fire_map/world_2000-2020/M6_proc/'\n",
    "vfire_folder = '../data/fire_map/world_2000-2020/V1_proc/'\n",
    "poll_folder = '../data/poll_map/'\n",
    "thfire_folder = poll_folder + 'th_fire_years/'\n",
    "report_folder = '../reports/map/'"
   ]
  },
  {
   "cell_type": "code",
   "execution_count": 4,
   "metadata": {},
   "outputs": [
    {
     "name": "stderr",
     "output_type": "stream",
     "text": [
      "100%|██████████████████████████████████████████████████████████████████████████████████████████████████████████████████████| 30/30 [00:00<00:00, 461.39it/s]\n"
     ]
    }
   ],
   "source": [
    "# process raw fire data. call this function after loading new data from NASA\n",
    "add_merc_to_fire(instr=instr)"
   ]
  },
  {
   "cell_type": "code",
   "execution_count": 33,
   "metadata": {},
   "outputs": [],
   "source": [
    "def split_1fire_by_year(file, start_stop_dates, save_prefix, save_folder, timezone='Asia/Bangkok', chunk=1E6):\n",
    "    save_filenames = []\n",
    "    # load fire data  in chunk and append the files to proper year \n",
    "    for fire_df in pd.read_csv(file, chunksize=chunk):\n",
    "        fire_df = process_fire_data(filename=None, fire=fire_df, and_save=False, timezone=timezone, to_drop=False)\n",
    "        for year, start_date, end_date in start_stop_dates:\n",
    "            save_filename = save_folder + 'th_fire_' + save_prefix + str(year) + '.csv'\n",
    "            sub_fire = fire_df.loc[start_date:end_date]\n",
    "            if len(sub_fire) > 0:\n",
    "                # save fire by year \n",
    "                if os.path.exists(save_filename):\n",
    "                    # fire already exist \n",
    "                    exist_sub_fire = pd.read_csv(save_filename)\n",
    "                    exist_sub_fire['datetime'] = pd.to_datetime(exist_sub_fire['datetime'] )\n",
    "                    exist_sub_fire = exist_sub_fire.set_index('datetime')\n",
    "                    sub_fire = pd.concat([sub_fire, exist_sub_fire])\n",
    "                    sub_fire = sub_fire.drop_duplicates()\n",
    "            \n",
    "                sub_fire.to_csv(save_filename, index=True)\n",
    "                save_filenames.append(save_filename)\n",
    "    return save_filenames"
   ]
  },
  {
   "cell_type": "code",
   "execution_count": 39,
   "metadata": {},
   "outputs": [],
   "source": [
    "def split_fires_by_year(year_range, save_folder, instr='MODIS', start_season = '07-01', end_season = '06-30', timezone='Asia/Bangkok'):\n",
    "    \n",
    "    # build date start and stop pair \n",
    "    start_list = [f'{y}-{start_season}' for y in year_range]\n",
    "    stop_list = [f'{y+1}-{end_season}' for y in year_range]\n",
    "    start_stop_dates = [*zip(year_range, start_list, stop_list)]\n",
    "    print(start_stop_dates)\n",
    "    \n",
    "    # load all modis fires and save them in proper file by year \n",
    "    if instr == 'MODIS':\n",
    "        raw_folder = '../data/fire_map/world_2000-2020/M6_proc/'\n",
    "        save_prefix = 'm_'\n",
    "        save_folder = save_folder.replace('s/', 's_m/')\n",
    "    elif instr == 'VIIRS':\n",
    "        raw_folder = '../data/fire_map/world_2000-2020/V1_proc/'\n",
    "        save_prefix = 'v_'\n",
    "        save_folder = save_folder.replace('s/', 's_v/')\n",
    "    \n",
    "    if os.path.exists(save_folder):\n",
    "        shutil.rmtree(save_folder)\n",
    "    os.mkdir(save_folder)\n",
    "    \n",
    "    save_filenames = []\n",
    "\n",
    "    files = glob(raw_folder + '*.csv')\n",
    "    print('there are ', len(files) , 'files')\n",
    "    for file in tqdm(files):\n",
    "        save_filenames += split_1fire_by_year(file, start_stop_dates, save_prefix, save_folder=save_folder, timezone=timezone)\n",
    "    \n",
    "    return np.unique(save_filenames)"
   ]
  },
  {
   "cell_type": "code",
   "execution_count": 31,
   "metadata": {},
   "outputs": [
    {
     "name": "stdout",
     "output_type": "stream",
     "text": [
      "[2003 2004 2005 2006 2007 2008 2009 2010 2011 2012 2013 2014 2015 2016\n",
      " 2017 2018 2019 2020]\n"
     ]
    }
   ],
   "source": [
    "instr = 'MODIS'\n",
    "\n",
    "# modis year arange \n",
    "year_range = np.arange(2003, datetime.now().year )\n",
    "print(year_range)"
   ]
  },
  {
   "cell_type": "code",
   "execution_count": 32,
   "metadata": {},
   "outputs": [
    {
     "name": "stderr",
     "output_type": "stream",
     "text": [
      "\n",
      "  0%|                                                                                                                                | 0/30 [00:00<?, ?it/s]\u001b[A"
     ]
    },
    {
     "name": "stdout",
     "output_type": "stream",
     "text": [
      "[(2003, '2003-07-01', '2004-06-30'), (2004, '2004-07-01', '2005-06-30'), (2005, '2005-07-01', '2006-06-30'), (2006, '2006-07-01', '2007-06-30'), (2007, '2007-07-01', '2008-06-30'), (2008, '2008-07-01', '2009-06-30'), (2009, '2009-07-01', '2010-06-30'), (2010, '2010-07-01', '2011-06-30'), (2011, '2011-07-01', '2012-06-30'), (2012, '2012-07-01', '2013-06-30'), (2013, '2013-07-01', '2014-06-30'), (2014, '2014-07-01', '2015-06-30'), (2015, '2015-07-01', '2016-06-30'), (2016, '2016-07-01', '2017-06-30'), (2017, '2017-07-01', '2018-06-30'), (2018, '2018-07-01', '2019-06-30'), (2019, '2019-07-01', '2020-06-30'), (2020, '2020-07-01', '2021-06-30')]\n",
      "there are  30 files\n",
      "before drop (1000000, 19)\n",
      "after drop (1000000, 11)\n",
      "before drop (1000000, 19)\n",
      "after drop (1000000, 11)\n",
      "before drop (1000000, 19)\n",
      "after drop (1000000, 11)\n",
      "before drop (1000000, 19)\n",
      "after drop (1000000, 11)\n",
      "before drop (1000000, 19)\n",
      "after drop (1000000, 11)\n",
      "before drop (772188, 19)\n",
      "after drop (772188, 11)\n"
     ]
    },
    {
     "name": "stderr",
     "output_type": "stream",
     "text": [
      "\n",
      "  3%|███▉                                                                                                                 | 1/30 [06:22<3:04:52, 382.51s/it]\u001b[A"
     ]
    },
    {
     "name": "stdout",
     "output_type": "stream",
     "text": [
      "before drop (944228, 19)\n",
      "after drop (944228, 11)\n"
     ]
    },
    {
     "name": "stderr",
     "output_type": "stream",
     "text": [
      "\n",
      "  7%|███████▊                                                                                                             | 2/30 [07:36<2:15:15, 289.84s/it]\u001b[A"
     ]
    },
    {
     "name": "stdout",
     "output_type": "stream",
     "text": [
      "before drop (696234, 19)\n",
      "after drop (696234, 11)\n"
     ]
    },
    {
     "name": "stderr",
     "output_type": "stream",
     "text": [
      "\n",
      " 10%|███████████▋                                                                                                         | 3/30 [08:21<1:37:28, 216.61s/it]\u001b[A"
     ]
    },
    {
     "name": "stdout",
     "output_type": "stream",
     "text": [
      "before drop (1000000, 19)\n",
      "after drop (1000000, 11)\n",
      "before drop (27201, 19)\n",
      "after drop (27201, 11)\n"
     ]
    },
    {
     "name": "stderr",
     "output_type": "stream",
     "text": [
      "\n",
      " 13%|███████████████▌                                                                                                     | 4/30 [09:16<1:12:50, 168.10s/it]\u001b[A"
     ]
    },
    {
     "name": "stdout",
     "output_type": "stream",
     "text": [
      "before drop (748354, 19)\n",
      "after drop (748354, 11)\n"
     ]
    },
    {
     "name": "stderr",
     "output_type": "stream",
     "text": [
      "\n",
      " 17%|███████████████████▊                                                                                                   | 5/30 [09:50<53:15, 127.83s/it]\u001b[A"
     ]
    },
    {
     "name": "stdout",
     "output_type": "stream",
     "text": [
      "before drop (578216, 19)\n",
      "after drop (578216, 11)\n"
     ]
    },
    {
     "name": "stderr",
     "output_type": "stream",
     "text": [
      "\n",
      " 20%|████████████████████████                                                                                                | 6/30 [10:18<39:11, 97.99s/it]\u001b[A"
     ]
    },
    {
     "name": "stdout",
     "output_type": "stream",
     "text": [
      "before drop (759575, 19)\n",
      "after drop (759575, 11)\n"
     ]
    },
    {
     "name": "stderr",
     "output_type": "stream",
     "text": [
      "\n",
      " 23%|████████████████████████████                                                                                            | 7/30 [10:54<30:21, 79.19s/it]\u001b[A"
     ]
    },
    {
     "name": "stdout",
     "output_type": "stream",
     "text": [
      "before drop (748082, 19)\n",
      "after drop (748082, 11)\n"
     ]
    },
    {
     "name": "stderr",
     "output_type": "stream",
     "text": [
      "\n",
      " 27%|████████████████████████████████                                                                                        | 8/30 [11:28<24:04, 65.67s/it]\u001b[A"
     ]
    },
    {
     "name": "stdout",
     "output_type": "stream",
     "text": [
      "before drop (740016, 19)\n",
      "after drop (740016, 11)\n"
     ]
    },
    {
     "name": "stderr",
     "output_type": "stream",
     "text": [
      "\n",
      " 30%|████████████████████████████████████                                                                                    | 9/30 [12:05<19:55, 56.95s/it]\u001b[A"
     ]
    },
    {
     "name": "stdout",
     "output_type": "stream",
     "text": [
      "before drop (789762, 19)\n",
      "after drop (789762, 11)\n"
     ]
    },
    {
     "name": "stderr",
     "output_type": "stream",
     "text": [
      "\n",
      " 33%|███████████████████████████████████████▋                                                                               | 10/30 [12:39<16:43, 50.19s/it]\u001b[A"
     ]
    },
    {
     "name": "stdout",
     "output_type": "stream",
     "text": [
      "before drop (661330, 19)\n",
      "after drop (661330, 11)\n"
     ]
    },
    {
     "name": "stderr",
     "output_type": "stream",
     "text": [
      "\n",
      " 37%|███████████████████████████████████████████▋                                                                           | 11/30 [13:10<14:02, 44.33s/it]\u001b[A"
     ]
    },
    {
     "name": "stdout",
     "output_type": "stream",
     "text": [
      "before drop (781680, 19)\n",
      "after drop (781680, 11)\n"
     ]
    },
    {
     "name": "stderr",
     "output_type": "stream",
     "text": [
      "\n",
      " 40%|███████████████████████████████████████████████▌                                                                       | 12/30 [13:44<12:26, 41.45s/it]\u001b[A"
     ]
    },
    {
     "name": "stdout",
     "output_type": "stream",
     "text": [
      "before drop (928306, 19)\n",
      "after drop (928306, 11)\n"
     ]
    },
    {
     "name": "stderr",
     "output_type": "stream",
     "text": [
      "\n",
      " 43%|███████████████████████████████████████████████████▌                                                                   | 13/30 [14:02<09:45, 34.41s/it]\u001b[A"
     ]
    },
    {
     "name": "stdout",
     "output_type": "stream",
     "text": [
      "before drop (593516, 19)\n"
     ]
    },
    {
     "name": "stderr",
     "output_type": "stream",
     "text": [
      "\n",
      " 47%|███████████████████████████████████████████████████████▌                                                               | 14/30 [14:05<06:37, 24.86s/it]\u001b[A\n",
      " 50%|███████████████████████████████████████████████████████████▌                                                           | 15/30 [14:05<04:21, 17.44s/it]\u001b[A"
     ]
    },
    {
     "name": "stdout",
     "output_type": "stream",
     "text": [
      "after drop (450545, 11)\n",
      "before drop (9597, 19)\n",
      "after drop (0, 11)\n"
     ]
    },
    {
     "name": "stderr",
     "output_type": "stream",
     "text": [
      "\n",
      " 53%|███████████████████████████████████████████████████████████████▍                                                       | 16/30 [14:05<02:51, 12.24s/it]\u001b[A"
     ]
    },
    {
     "name": "stdout",
     "output_type": "stream",
     "text": [
      "before drop (15991, 19)\n",
      "after drop (0, 11)\n",
      "before drop (798163, 19)\n",
      "after drop (798163, 11)\n"
     ]
    },
    {
     "name": "stderr",
     "output_type": "stream",
     "text": [
      "\n",
      " 57%|███████████████████████████████████████████████████████████████████▍                                                   | 17/30 [14:39<04:01, 18.60s/it]\u001b[A"
     ]
    },
    {
     "name": "stdout",
     "output_type": "stream",
     "text": [
      "before drop (686811, 19)\n",
      "after drop (686811, 11)\n"
     ]
    },
    {
     "name": "stderr",
     "output_type": "stream",
     "text": [
      "\n",
      " 60%|███████████████████████████████████████████████████████████████████████▍                                               | 18/30 [15:50<06:52, 34.41s/it]\u001b[A"
     ]
    },
    {
     "name": "stdout",
     "output_type": "stream",
     "text": [
      "before drop (586567, 19)\n",
      "after drop (586567, 11)\n"
     ]
    },
    {
     "name": "stderr",
     "output_type": "stream",
     "text": [
      "\n",
      " 63%|███████████████████████████████████████████████████████████████████████████▎                                           | 19/30 [16:17<05:52, 32.08s/it]\u001b[A"
     ]
    },
    {
     "name": "stdout",
     "output_type": "stream",
     "text": [
      "before drop (680281, 19)\n",
      "after drop (680281, 11)\n"
     ]
    },
    {
     "name": "stderr",
     "output_type": "stream",
     "text": [
      "\n",
      " 67%|███████████████████████████████████████████████████████████████████████████████▎                                       | 20/30 [16:47<05:15, 31.60s/it]\u001b[A"
     ]
    },
    {
     "name": "stdout",
     "output_type": "stream",
     "text": [
      "before drop (198399, 19)\n",
      "after drop (198399, 11)\n"
     ]
    },
    {
     "name": "stderr",
     "output_type": "stream",
     "text": [
      "\n",
      " 70%|███████████████████████████████████████████████████████████████████████████████████▎                                   | 21/30 [17:02<03:58, 26.54s/it]\u001b[A"
     ]
    },
    {
     "name": "stdout",
     "output_type": "stream",
     "text": [
      "before drop (43053, 19)\n",
      "after drop (43053, 11)\n"
     ]
    },
    {
     "name": "stderr",
     "output_type": "stream",
     "text": [
      "\n",
      " 73%|███████████████████████████████████████████████████████████████████████████████████████▎                               | 22/30 [17:21<03:14, 24.36s/it]\u001b[A"
     ]
    },
    {
     "name": "stdout",
     "output_type": "stream",
     "text": [
      "before drop (187075, 17)\n",
      "after drop (187075, 10)\n"
     ]
    },
    {
     "name": "stderr",
     "output_type": "stream",
     "text": [
      "\n",
      " 77%|███████████████████████████████████████████████████████████████████████████████████████████▏                           | 23/30 [17:31<02:20, 20.01s/it]\u001b[A"
     ]
    },
    {
     "name": "stdout",
     "output_type": "stream",
     "text": [
      "before drop (154751, 18)\n",
      "after drop (154751, 11)\n"
     ]
    },
    {
     "name": "stderr",
     "output_type": "stream",
     "text": [
      "\n",
      " 80%|███████████████████████████████████████████████████████████████████████████████████████████████▏                       | 24/30 [17:44<01:48, 18.04s/it]\u001b[A"
     ]
    },
    {
     "name": "stdout",
     "output_type": "stream",
     "text": [
      "before drop (138692, 18)\n",
      "after drop (138692, 11)\n"
     ]
    },
    {
     "name": "stderr",
     "output_type": "stream",
     "text": [
      "\n",
      " 83%|███████████████████████████████████████████████████████████████████████████████████████████████████▏                   | 25/30 [17:54<01:17, 15.47s/it]\u001b[A"
     ]
    },
    {
     "name": "stdout",
     "output_type": "stream",
     "text": [
      "before drop (69509, 18)\n",
      "after drop (69509, 11)\n"
     ]
    },
    {
     "name": "stderr",
     "output_type": "stream",
     "text": [
      "\n",
      " 87%|███████████████████████████████████████████████████████████████████████████████████████████████████████▏               | 26/30 [18:03<00:54, 13.61s/it]\u001b[A"
     ]
    },
    {
     "name": "stdout",
     "output_type": "stream",
     "text": [
      "before drop (26420, 18)\n",
      "after drop (26420, 11)\n"
     ]
    },
    {
     "name": "stderr",
     "output_type": "stream",
     "text": [
      "\n",
      " 90%|███████████████████████████████████████████████████████████████████████████████████████████████████████████            | 27/30 [18:14<00:38, 12.96s/it]\u001b[A"
     ]
    },
    {
     "name": "stdout",
     "output_type": "stream",
     "text": [
      "before drop (14127, 18)\n",
      "after drop (14127, 11)\n"
     ]
    },
    {
     "name": "stderr",
     "output_type": "stream",
     "text": [
      "\n",
      " 93%|███████████████████████████████████████████████████████████████████████████████████████████████████████████████        | 28/30 [18:22<00:22, 11.40s/it]\u001b[A"
     ]
    },
    {
     "name": "stdout",
     "output_type": "stream",
     "text": [
      "before drop (18862, 17)\n",
      "after drop (18862, 10)\n"
     ]
    },
    {
     "name": "stderr",
     "output_type": "stream",
     "text": [
      "\n",
      " 97%|███████████████████████████████████████████████████████████████████████████████████████████████████████████████████    | 29/30 [18:30<00:10, 10.17s/it]\u001b[A"
     ]
    },
    {
     "name": "stdout",
     "output_type": "stream",
     "text": [
      "before drop (230388, 17)\n",
      "after drop (230388, 10)\n"
     ]
    },
    {
     "name": "stderr",
     "output_type": "stream",
     "text": [
      "\n",
      "100%|███████████████████████████████████████████████████████████████████████████████████████████████████████████████████████| 30/30 [18:39<00:00, 37.30s/it]\u001b[A\n"
     ]
    }
   ],
   "source": [
    "split_fires_by_year(year_range=year_range, save_folder=thfire_folder, instr=instr)"
   ]
  },
  {
   "cell_type": "code",
   "execution_count": 45,
   "metadata": {},
   "outputs": [
    {
     "name": "stdout",
     "output_type": "stream",
     "text": [
      "18\n",
      "['../data/poll_map/th_fire_years_m\\\\th_fire_m_2003.csv', '../data/poll_map/th_fire_years_m\\\\th_fire_m_2004.csv', '../data/poll_map/th_fire_years_m\\\\th_fire_m_2005.csv', '../data/poll_map/th_fire_years_m\\\\th_fire_m_2006.csv', '../data/poll_map/th_fire_years_m\\\\th_fire_m_2007.csv', '../data/poll_map/th_fire_years_m\\\\th_fire_m_2008.csv', '../data/poll_map/th_fire_years_m\\\\th_fire_m_2009.csv', '../data/poll_map/th_fire_years_m\\\\th_fire_m_2010.csv', '../data/poll_map/th_fire_years_m\\\\th_fire_m_2011.csv', '../data/poll_map/th_fire_years_m\\\\th_fire_m_2012.csv', '../data/poll_map/th_fire_years_m\\\\th_fire_m_2013.csv', '../data/poll_map/th_fire_years_m\\\\th_fire_m_2014.csv', '../data/poll_map/th_fire_years_m\\\\th_fire_m_2015.csv', '../data/poll_map/th_fire_years_m\\\\th_fire_m_2016.csv', '../data/poll_map/th_fire_years_m\\\\th_fire_m_2017.csv', '../data/poll_map/th_fire_years_m\\\\th_fire_m_2018.csv', '../data/poll_map/th_fire_years_m\\\\th_fire_m_2019.csv', '../data/poll_map/th_fire_years_m\\\\th_fire_m_2020.csv']\n"
     ]
    }
   ],
   "source": [
    "save_filenames = glob(thfire_folder.replace('s/', 's_m/') + '*.csv')\n",
    "print(len(save_filenames))\n",
    "print(save_filenames)"
   ]
  },
  {
   "cell_type": "code",
   "execution_count": 48,
   "metadata": {},
   "outputs": [
    {
     "data": {
      "text/html": [
       "<div>\n",
       "<style scoped>\n",
       "    .dataframe tbody tr th:only-of-type {\n",
       "        vertical-align: middle;\n",
       "    }\n",
       "\n",
       "    .dataframe tbody tr th {\n",
       "        vertical-align: top;\n",
       "    }\n",
       "\n",
       "    .dataframe thead th {\n",
       "        text-align: right;\n",
       "    }\n",
       "</style>\n",
       "<table border=\"1\" class=\"dataframe\">\n",
       "  <thead>\n",
       "    <tr style=\"text-align: right;\">\n",
       "      <th></th>\n",
       "      <th>datetime</th>\n",
       "      <th>latitude</th>\n",
       "      <th>longitude</th>\n",
       "      <th>brightness</th>\n",
       "      <th>scan</th>\n",
       "      <th>track</th>\n",
       "      <th>acq_time</th>\n",
       "      <th>confidence</th>\n",
       "      <th>frp</th>\n",
       "      <th>long_km</th>\n",
       "      <th>lat_km</th>\n",
       "      <th>country</th>\n",
       "    </tr>\n",
       "  </thead>\n",
       "  <tbody>\n",
       "    <tr>\n",
       "      <th>0</th>\n",
       "      <td>2021-01-22 08:10:00</td>\n",
       "      <td>15.211</td>\n",
       "      <td>145.764</td>\n",
       "      <td>312.9</td>\n",
       "      <td>1.6</td>\n",
       "      <td>1.2</td>\n",
       "      <td>110</td>\n",
       "      <td>17</td>\n",
       "      <td>12.0</td>\n",
       "      <td>16226.0</td>\n",
       "      <td>1713.0</td>\n",
       "      <td>NaN</td>\n",
       "    </tr>\n",
       "    <tr>\n",
       "      <th>1</th>\n",
       "      <td>2021-01-22 08:10:00</td>\n",
       "      <td>15.213</td>\n",
       "      <td>145.771</td>\n",
       "      <td>313.9</td>\n",
       "      <td>1.6</td>\n",
       "      <td>1.2</td>\n",
       "      <td>110</td>\n",
       "      <td>0</td>\n",
       "      <td>14.9</td>\n",
       "      <td>16227.0</td>\n",
       "      <td>1713.0</td>\n",
       "      <td>NaN</td>\n",
       "    </tr>\n",
       "    <tr>\n",
       "      <th>2</th>\n",
       "      <td>2021-01-22 08:15:00</td>\n",
       "      <td>-4.061</td>\n",
       "      <td>138.412</td>\n",
       "      <td>300.7</td>\n",
       "      <td>1.0</td>\n",
       "      <td>1.0</td>\n",
       "      <td>115</td>\n",
       "      <td>26</td>\n",
       "      <td>3.6</td>\n",
       "      <td>15407.0</td>\n",
       "      <td>-452.0</td>\n",
       "      <td>NaN</td>\n",
       "    </tr>\n",
       "    <tr>\n",
       "      <th>3</th>\n",
       "      <td>2021-01-22 09:45:00</td>\n",
       "      <td>39.436</td>\n",
       "      <td>118.458</td>\n",
       "      <td>300.1</td>\n",
       "      <td>1.3</td>\n",
       "      <td>1.1</td>\n",
       "      <td>245</td>\n",
       "      <td>29</td>\n",
       "      <td>8.6</td>\n",
       "      <td>13186.0</td>\n",
       "      <td>4784.0</td>\n",
       "      <td>NaN</td>\n",
       "    </tr>\n",
       "    <tr>\n",
       "      <th>4</th>\n",
       "      <td>2021-01-22 09:45:00</td>\n",
       "      <td>26.918</td>\n",
       "      <td>119.341</td>\n",
       "      <td>303.4</td>\n",
       "      <td>1.0</td>\n",
       "      <td>1.0</td>\n",
       "      <td>245</td>\n",
       "      <td>54</td>\n",
       "      <td>4.5</td>\n",
       "      <td>13284.0</td>\n",
       "      <td>3113.0</td>\n",
       "      <td>NaN</td>\n",
       "    </tr>\n",
       "  </tbody>\n",
       "</table>\n",
       "</div>"
      ],
      "text/plain": [
       "              datetime  latitude  longitude  brightness  scan  track  \\\n",
       "0  2021-01-22 08:10:00    15.211    145.764       312.9   1.6    1.2   \n",
       "1  2021-01-22 08:10:00    15.213    145.771       313.9   1.6    1.2   \n",
       "2  2021-01-22 08:15:00    -4.061    138.412       300.7   1.0    1.0   \n",
       "3  2021-01-22 09:45:00    39.436    118.458       300.1   1.3    1.1   \n",
       "4  2021-01-22 09:45:00    26.918    119.341       303.4   1.0    1.0   \n",
       "\n",
       "   acq_time  confidence   frp  long_km  lat_km country  \n",
       "0       110          17  12.0  16226.0  1713.0     NaN  \n",
       "1       110           0  14.9  16227.0  1713.0     NaN  \n",
       "2       115          26   3.6  15407.0  -452.0     NaN  \n",
       "3       245          29   8.6  13186.0  4784.0     NaN  \n",
       "4       245          54   4.5  13284.0  3113.0     NaN  "
      ]
     },
     "execution_count": 48,
     "metadata": {},
     "output_type": "execute_result"
    }
   ],
   "source": [
    "fire = pd.read_csv(save_filenames[-1])\n",
    "fire.head()"
   ]
  },
  {
   "cell_type": "code",
   "execution_count": 56,
   "metadata": {
    "code_folding": []
   },
   "outputs": [],
   "source": [
    "def select_fire_country(save_filenames_list:list, country='Thailand'):\n",
    "    # add country and keep only Thailand, save over the old file \n",
    "    columns_to_keep = ['datetime', 'latitude', 'longitude', 'long_km', 'lat_km']\n",
    "    for file in tqdm(save_filenames_list):\n",
    "        fire = pd.read_csv(file)\n",
    "        fire = fire[columns_to_keep]\n",
    "        fire = fire.drop_duplicates(['datetime', 'latitude', 'longitude'])\n",
    "        fire = add_countries(fire)\n",
    "        fire = fire[fire['country'] == country]\n",
    "        fire.to_csv(file, index=False)"
   ]
  },
  {
   "cell_type": "code",
   "execution_count": 55,
   "metadata": {},
   "outputs": [
    {
     "data": {
      "application/vnd.jupyter.widget-view+json": {
       "model_id": "e10d6323af70408f9ca08cc4f2d81a80",
       "version_major": 2,
       "version_minor": 0
      },
      "text/plain": [
       "HBox(children=(FloatProgress(value=0.0, description='Pandas Apply', max=683951.0, style=ProgressStyle(descript…"
      ]
     },
     "metadata": {},
     "output_type": "display_data"
    },
    {
     "name": "stdout",
     "output_type": "stream",
     "text": [
      "\n"
     ]
    },
    {
     "data": {
      "application/vnd.jupyter.widget-view+json": {
       "model_id": "0698032a5dcf450b8f5e8c5e76722a83",
       "version_major": 2,
       "version_minor": 0
      },
      "text/plain": [
       "HBox(children=(FloatProgress(value=0.0, description='Pandas Apply', max=787868.0, style=ProgressStyle(descript…"
      ]
     },
     "metadata": {},
     "output_type": "display_data"
    },
    {
     "name": "stdout",
     "output_type": "stream",
     "text": [
      "\n"
     ]
    },
    {
     "data": {
      "application/vnd.jupyter.widget-view+json": {
       "model_id": "b257318af4ca4c99adfc08d525bce575",
       "version_major": 2,
       "version_minor": 0
      },
      "text/plain": [
       "HBox(children=(FloatProgress(value=0.0, description='Pandas Apply', max=605473.0, style=ProgressStyle(descript…"
      ]
     },
     "metadata": {},
     "output_type": "display_data"
    },
    {
     "name": "stdout",
     "output_type": "stream",
     "text": [
      "\n"
     ]
    },
    {
     "data": {
      "application/vnd.jupyter.widget-view+json": {
       "model_id": "07249a1f5b8a486e8c5154843bf1b85b",
       "version_major": 2,
       "version_minor": 0
      },
      "text/plain": [
       "HBox(children=(FloatProgress(value=0.0, description='Pandas Apply', max=881399.0, style=ProgressStyle(descript…"
      ]
     },
     "metadata": {},
     "output_type": "display_data"
    },
    {
     "name": "stdout",
     "output_type": "stream",
     "text": [
      "\n"
     ]
    },
    {
     "data": {
      "application/vnd.jupyter.widget-view+json": {
       "model_id": "6df99ddebb944383acd0c95706d1fb52",
       "version_major": 2,
       "version_minor": 0
      },
      "text/plain": [
       "HBox(children=(FloatProgress(value=0.0, description='Pandas Apply', max=811753.0, style=ProgressStyle(descript…"
      ]
     },
     "metadata": {},
     "output_type": "display_data"
    },
    {
     "name": "stdout",
     "output_type": "stream",
     "text": [
      "\n"
     ]
    },
    {
     "data": {
      "application/vnd.jupyter.widget-view+json": {
       "model_id": "5808201ff4a0460581258dcd039f249f",
       "version_major": 2,
       "version_minor": 0
      },
      "text/plain": [
       "HBox(children=(FloatProgress(value=0.0, description='Pandas Apply', max=675804.0, style=ProgressStyle(descript…"
      ]
     },
     "metadata": {},
     "output_type": "display_data"
    },
    {
     "name": "stdout",
     "output_type": "stream",
     "text": [
      "\n"
     ]
    },
    {
     "data": {
      "application/vnd.jupyter.widget-view+json": {
       "model_id": "2bdf7a5e3fcb4f8492bdb638a89ca59e",
       "version_major": 2,
       "version_minor": 0
      },
      "text/plain": [
       "HBox(children=(FloatProgress(value=0.0, description='Pandas Apply', max=743127.0, style=ProgressStyle(descript…"
      ]
     },
     "metadata": {},
     "output_type": "display_data"
    },
    {
     "name": "stdout",
     "output_type": "stream",
     "text": [
      "\n"
     ]
    },
    {
     "data": {
      "application/vnd.jupyter.widget-view+json": {
       "model_id": "bd836aac21494021bd35828d756cf30e",
       "version_major": 2,
       "version_minor": 0
      },
      "text/plain": [
       "HBox(children=(FloatProgress(value=0.0, description='Pandas Apply', max=544356.0, style=ProgressStyle(descript…"
      ]
     },
     "metadata": {},
     "output_type": "display_data"
    },
    {
     "name": "stdout",
     "output_type": "stream",
     "text": [
      "\n"
     ]
    },
    {
     "data": {
      "application/vnd.jupyter.widget-view+json": {
       "model_id": "0bdc4c5da3ae481ba7e6878edb053db4",
       "version_major": 2,
       "version_minor": 0
      },
      "text/plain": [
       "HBox(children=(FloatProgress(value=0.0, description='Pandas Apply', max=899562.0, style=ProgressStyle(descript…"
      ]
     },
     "metadata": {},
     "output_type": "display_data"
    },
    {
     "name": "stdout",
     "output_type": "stream",
     "text": [
      "\n"
     ]
    },
    {
     "data": {
      "application/vnd.jupyter.widget-view+json": {
       "model_id": "105bcf6693014ca2bcf8f7975c671d0d",
       "version_major": 2,
       "version_minor": 0
      },
      "text/plain": [
       "HBox(children=(FloatProgress(value=0.0, description='Pandas Apply', max=915570.0, style=ProgressStyle(descript…"
      ]
     },
     "metadata": {},
     "output_type": "display_data"
    },
    {
     "name": "stdout",
     "output_type": "stream",
     "text": [
      "\n"
     ]
    },
    {
     "data": {
      "application/vnd.jupyter.widget-view+json": {
       "model_id": "30e5b7b3e50f48438cca47cef711d4ce",
       "version_major": 2,
       "version_minor": 0
      },
      "text/plain": [
       "HBox(children=(FloatProgress(value=0.0, description='Pandas Apply', max=1549899.0, style=ProgressStyle(descrip…"
      ]
     },
     "metadata": {},
     "output_type": "display_data"
    },
    {
     "name": "stdout",
     "output_type": "stream",
     "text": [
      "\n"
     ]
    },
    {
     "data": {
      "application/vnd.jupyter.widget-view+json": {
       "model_id": "d379da2f25094e839727a4def87e65eb",
       "version_major": 2,
       "version_minor": 0
      },
      "text/plain": [
       "HBox(children=(FloatProgress(value=0.0, description='Pandas Apply', max=2382160.0, style=ProgressStyle(descrip…"
      ]
     },
     "metadata": {},
     "output_type": "display_data"
    },
    {
     "name": "stdout",
     "output_type": "stream",
     "text": [
      "\n"
     ]
    },
    {
     "data": {
      "application/vnd.jupyter.widget-view+json": {
       "model_id": "feb73add1da343d2a0a92e0d9bb08e73",
       "version_major": 2,
       "version_minor": 0
      },
      "text/plain": [
       "HBox(children=(FloatProgress(value=0.0, description='Pandas Apply', max=3410602.0, style=ProgressStyle(descrip…"
      ]
     },
     "metadata": {},
     "output_type": "display_data"
    },
    {
     "name": "stdout",
     "output_type": "stream",
     "text": [
      "\n"
     ]
    },
    {
     "data": {
      "application/vnd.jupyter.widget-view+json": {
       "model_id": "506fca5fe3d5472ea21c5d9ec3d44a4f",
       "version_major": 2,
       "version_minor": 0
      },
      "text/plain": [
       "HBox(children=(FloatProgress(value=0.0, description='Pandas Apply', max=618983.0, style=ProgressStyle(descript…"
      ]
     },
     "metadata": {},
     "output_type": "display_data"
    },
    {
     "name": "stdout",
     "output_type": "stream",
     "text": [
      "\n"
     ]
    },
    {
     "data": {
      "application/vnd.jupyter.widget-view+json": {
       "model_id": "7af3258527ab44ea81de88cc7a359ae0",
       "version_major": 2,
       "version_minor": 0
      },
      "text/plain": [
       "HBox(children=(FloatProgress(value=0.0, description='Pandas Apply', max=617562.0, style=ProgressStyle(descript…"
      ]
     },
     "metadata": {},
     "output_type": "display_data"
    },
    {
     "name": "stdout",
     "output_type": "stream",
     "text": [
      "\n"
     ]
    },
    {
     "data": {
      "application/vnd.jupyter.widget-view+json": {
       "model_id": "55e2407559104c03bb9ad4e6015ae22c",
       "version_major": 2,
       "version_minor": 0
      },
      "text/plain": [
       "HBox(children=(FloatProgress(value=0.0, description='Pandas Apply', max=703388.0, style=ProgressStyle(descript…"
      ]
     },
     "metadata": {},
     "output_type": "display_data"
    },
    {
     "name": "stdout",
     "output_type": "stream",
     "text": [
      "\n"
     ]
    },
    {
     "data": {
      "application/vnd.jupyter.widget-view+json": {
       "model_id": "9099e675d5de49699d16731c8c804a77",
       "version_major": 2,
       "version_minor": 0
      },
      "text/plain": [
       "HBox(children=(FloatProgress(value=0.0, description='Pandas Apply', max=802186.0, style=ProgressStyle(descript…"
      ]
     },
     "metadata": {},
     "output_type": "display_data"
    },
    {
     "name": "stdout",
     "output_type": "stream",
     "text": [
      "\n"
     ]
    },
    {
     "data": {
      "application/vnd.jupyter.widget-view+json": {
       "model_id": "16b54329c71b4607b4283d583cedca46",
       "version_major": 2,
       "version_minor": 0
      },
      "text/plain": [
       "HBox(children=(FloatProgress(value=0.0, description='Pandas Apply', max=567327.0, style=ProgressStyle(descript…"
      ]
     },
     "metadata": {},
     "output_type": "display_data"
    },
    {
     "name": "stdout",
     "output_type": "stream",
     "text": [
      "\n"
     ]
    }
   ],
   "source": [
    "select_fire_country(save_filenames_list= save_filenames, country='Thailand')"
   ]
  },
  {
   "cell_type": "code",
   "execution_count": 59,
   "metadata": {},
   "outputs": [],
   "source": [
    "# load Thailand provincial boundry\n",
    "filename = map_folder + 'THA.gdb'\n",
    "# select province level\n",
    "prov_map = gpd.read_file(filename, driver='FileGDB', layer=2)\n",
    "prov_map['geometry'].shape\n",
    "# overide old crs and convert\n",
    "crs = pyproj.CRS('EPSG:4326')\n",
    "prov_map['geometry'] = prov_map['geometry'].set_crs(crs, allow_override=True)"
   ]
  },
  {
   "cell_type": "code",
   "execution_count": 60,
   "metadata": {},
   "outputs": [],
   "source": [
    "def locate_province(p, gdf, col='admin1Name_en'):\n",
    "    \"\"\"Find a province hosting the hotspot.\n",
    "\n",
    "    Args:\n",
    "        p: Point object\n",
    "        gdf: geopandas dataframe with albel \n",
    "    \n",
    "    Returns: str \n",
    "        name of the country \n",
    "    \"\"\"\n",
    "    try: \n",
    "        province = gdf[gdf['geometry'].contains(p)][col].values[0]\n",
    "    except: \n",
    "        province = np.nan\n",
    "        \n",
    "    return province"
   ]
  },
  {
   "cell_type": "code",
   "execution_count": 61,
   "metadata": {},
   "outputs": [],
   "source": [
    "def add_provinces(save_filenames_list, prov_map, col='admin1Name_en'):\n",
    "    for file in tqdm(save_filenames_list):\n",
    "        fire = pd.read_csv(file)\n",
    "        # add province \n",
    "        fire['geometry'] = [Point(x,y) for x, y in zip(fire['longitude'], fire['latitude'])]\n",
    "        fire['province'] = fire['geometry'].swifter.apply(locate_province, gdf=prov_map, col=col)\n",
    "        fire = fire.drop('geometry', axis=1)\n",
    "        fire.to_csv(file, index=False)"
   ]
  },
  {
   "cell_type": "code",
   "execution_count": 62,
   "metadata": {
    "collapsed": true
   },
   "outputs": [
    {
     "name": "stderr",
     "output_type": "stream",
     "text": [
      "\n",
      "  0%|                                                                                                                                | 0/18 [00:00<?, ?it/s]\u001b[A"
     ]
    },
    {
     "data": {
      "application/vnd.jupyter.widget-view+json": {
       "model_id": "2f08377eba3c48c1bd163177ffe8ed21",
       "version_major": 2,
       "version_minor": 0
      },
      "text/plain": [
       "HBox(children=(FloatProgress(value=0.0, description='Pandas Apply', max=48571.0, style=ProgressStyle(descripti…"
      ]
     },
     "metadata": {},
     "output_type": "display_data"
    },
    {
     "name": "stdout",
     "output_type": "stream",
     "text": [
      "\n"
     ]
    },
    {
     "name": "stderr",
     "output_type": "stream",
     "text": [
      "\n",
      "  6%|██████▌                                                                                                              | 1/18 [06:45<1:54:50, 405.30s/it]\u001b[A"
     ]
    },
    {
     "data": {
      "application/vnd.jupyter.widget-view+json": {
       "model_id": "6d4c063ceaee4a6d9a98899716fcfc89",
       "version_major": 2,
       "version_minor": 0
      },
      "text/plain": [
       "HBox(children=(FloatProgress(value=0.0, description='Pandas Apply', max=52797.0, style=ProgressStyle(descripti…"
      ]
     },
     "metadata": {},
     "output_type": "display_data"
    },
    {
     "name": "stdout",
     "output_type": "stream",
     "text": [
      "\n"
     ]
    },
    {
     "name": "stderr",
     "output_type": "stream",
     "text": [
      "\n",
      " 11%|█████████████                                                                                                        | 2/18 [14:22<1:52:16, 421.01s/it]\u001b[A"
     ]
    },
    {
     "data": {
      "application/vnd.jupyter.widget-view+json": {
       "model_id": "497f2b2070de4e5fb4f7844ae72e77c9",
       "version_major": 2,
       "version_minor": 0
      },
      "text/plain": [
       "HBox(children=(FloatProgress(value=0.0, description='Pandas Apply', max=24935.0, style=ProgressStyle(descripti…"
      ]
     },
     "metadata": {},
     "output_type": "display_data"
    },
    {
     "name": "stderr",
     "output_type": "stream",
     "text": [
      "\n"
     ]
    },
    {
     "name": "stdout",
     "output_type": "stream",
     "text": [
      "\n"
     ]
    },
    {
     "name": "stderr",
     "output_type": "stream",
     "text": [
      " 17%|███████████████████▌                                                                                                 | 3/18 [17:58<1:29:49, 359.29s/it]\u001b[A"
     ]
    },
    {
     "data": {
      "application/vnd.jupyter.widget-view+json": {
       "model_id": "065c2744ee584b70b33dec31f84324b7",
       "version_major": 2,
       "version_minor": 0
      },
      "text/plain": [
       "HBox(children=(FloatProgress(value=0.0, description='Pandas Apply', max=42902.0, style=ProgressStyle(descripti…"
      ]
     },
     "metadata": {},
     "output_type": "display_data"
    },
    {
     "name": "stdout",
     "output_type": "stream",
     "text": [
      "\n"
     ]
    },
    {
     "name": "stderr",
     "output_type": "stream",
     "text": [
      "\n",
      " 22%|██████████████████████████                                                                                           | 4/18 [23:44<1:22:55, 355.37s/it]\u001b[A"
     ]
    },
    {
     "data": {
      "application/vnd.jupyter.widget-view+json": {
       "model_id": "d2903fdf55c74fcda9b0e45e5b41ac19",
       "version_major": 2,
       "version_minor": 0
      },
      "text/plain": [
       "HBox(children=(FloatProgress(value=0.0, description='Pandas Apply', max=26002.0, style=ProgressStyle(descripti…"
      ]
     },
     "metadata": {},
     "output_type": "display_data"
    },
    {
     "name": "stderr",
     "output_type": "stream",
     "text": [
      "\n"
     ]
    },
    {
     "name": "stdout",
     "output_type": "stream",
     "text": [
      "\n"
     ]
    },
    {
     "name": "stderr",
     "output_type": "stream",
     "text": [
      " 28%|████████████████████████████████▌                                                                                    | 5/18 [27:14<1:07:34, 311.88s/it]\u001b[A"
     ]
    },
    {
     "data": {
      "application/vnd.jupyter.widget-view+json": {
       "model_id": "c4af3618f3e6426487557d5382b20930",
       "version_major": 2,
       "version_minor": 0
      },
      "text/plain": [
       "HBox(children=(FloatProgress(value=0.0, description='Pandas Apply', max=25540.0, style=ProgressStyle(descripti…"
      ]
     },
     "metadata": {},
     "output_type": "display_data"
    },
    {
     "name": "stderr",
     "output_type": "stream",
     "text": [
      "\n",
      " 33%|███████████████████████████████████████▋                                                                               | 6/18 [30:45<56:16, 281.36s/it]\u001b[A"
     ]
    },
    {
     "name": "stdout",
     "output_type": "stream",
     "text": [
      "\n"
     ]
    },
    {
     "data": {
      "application/vnd.jupyter.widget-view+json": {
       "model_id": "719f5c9641d34c4387bd25f45109b933",
       "version_major": 2,
       "version_minor": 0
      },
      "text/plain": [
       "HBox(children=(FloatProgress(value=0.0, description='Pandas Apply', max=33873.0, style=ProgressStyle(descripti…"
      ]
     },
     "metadata": {},
     "output_type": "display_data"
    },
    {
     "name": "stdout",
     "output_type": "stream",
     "text": [
      "\n"
     ]
    },
    {
     "name": "stderr",
     "output_type": "stream",
     "text": [
      "\n",
      " 39%|██████████████████████████████████████████████▎                                                                        | 7/18 [35:15<50:57, 277.99s/it]\u001b[A"
     ]
    },
    {
     "data": {
      "application/vnd.jupyter.widget-view+json": {
       "model_id": "8720ab7bc70445d8a7b8e4acbdce4175",
       "version_major": 2,
       "version_minor": 0
      },
      "text/plain": [
       "HBox(children=(FloatProgress(value=0.0, description='Pandas Apply', max=18556.0, style=ProgressStyle(descripti…"
      ]
     },
     "metadata": {},
     "output_type": "display_data"
    },
    {
     "name": "stderr",
     "output_type": "stream",
     "text": [
      "\n",
      " 44%|████████████████████████████████████████████████████▉                                                                  | 8/18 [38:00<40:40, 244.09s/it]\u001b[A"
     ]
    },
    {
     "name": "stdout",
     "output_type": "stream",
     "text": [
      "\n"
     ]
    },
    {
     "data": {
      "application/vnd.jupyter.widget-view+json": {
       "model_id": "17bb0d4b84994fb8ac8ecd0565e5a595",
       "version_major": 2,
       "version_minor": 0
      },
      "text/plain": [
       "HBox(children=(FloatProgress(value=0.0, description='Pandas Apply', max=30950.0, style=ProgressStyle(descripti…"
      ]
     },
     "metadata": {},
     "output_type": "display_data"
    },
    {
     "name": "stdout",
     "output_type": "stream",
     "text": [
      "\n"
     ]
    },
    {
     "name": "stderr",
     "output_type": "stream",
     "text": [
      "\n",
      " 50%|███████████████████████████████████████████████████████████▌                                                           | 9/18 [42:09<36:52, 245.82s/it]\u001b[A"
     ]
    },
    {
     "data": {
      "application/vnd.jupyter.widget-view+json": {
       "model_id": "bd133e864c8846c79c876f7b43fdedfb",
       "version_major": 2,
       "version_minor": 0
      },
      "text/plain": [
       "HBox(children=(FloatProgress(value=0.0, description='Pandas Apply', max=32645.0, style=ProgressStyle(descripti…"
      ]
     },
     "metadata": {},
     "output_type": "display_data"
    },
    {
     "name": "stdout",
     "output_type": "stream",
     "text": [
      "\n"
     ]
    },
    {
     "name": "stderr",
     "output_type": "stream",
     "text": [
      "\n",
      " 56%|█████████████████████████████████████████████████████████████████▌                                                    | 10/18 [47:02<34:39, 259.91s/it]\u001b[A"
     ]
    },
    {
     "data": {
      "application/vnd.jupyter.widget-view+json": {
       "model_id": "82c5715e44084268857a7a595f8b6121",
       "version_major": 2,
       "version_minor": 0
      },
      "text/plain": [
       "HBox(children=(FloatProgress(value=0.0, description='Pandas Apply', max=31065.0, style=ProgressStyle(descripti…"
      ]
     },
     "metadata": {},
     "output_type": "display_data"
    },
    {
     "name": "stdout",
     "output_type": "stream",
     "text": [
      "\n"
     ]
    },
    {
     "name": "stderr",
     "output_type": "stream",
     "text": [
      "\n",
      " 61%|████████████████████████████████████████████████████████████████████████                                              | 11/18 [51:36<30:49, 264.14s/it]\u001b[A"
     ]
    },
    {
     "data": {
      "application/vnd.jupyter.widget-view+json": {
       "model_id": "c9c8d572e2dc4195b70376e8469943ba",
       "version_major": 2,
       "version_minor": 0
      },
      "text/plain": [
       "HBox(children=(FloatProgress(value=0.0, description='Pandas Apply', max=29846.0, style=ProgressStyle(descripti…"
      ]
     },
     "metadata": {},
     "output_type": "display_data"
    },
    {
     "name": "stdout",
     "output_type": "stream",
     "text": [
      "\n"
     ]
    },
    {
     "name": "stderr",
     "output_type": "stream",
     "text": [
      "\n",
      " 67%|██████████████████████████████████████████████████████████████████████████████▋                                       | 12/18 [56:03<26:29, 264.86s/it]\u001b[A"
     ]
    },
    {
     "data": {
      "application/vnd.jupyter.widget-view+json": {
       "model_id": "26d283f2d6964f808ef2e5d79b7fba7c",
       "version_major": 2,
       "version_minor": 0
      },
      "text/plain": [
       "HBox(children=(FloatProgress(value=0.0, description='Pandas Apply', max=30951.0, style=ProgressStyle(descripti…"
      ]
     },
     "metadata": {},
     "output_type": "display_data"
    },
    {
     "name": "stdout",
     "output_type": "stream",
     "text": [
      "\n"
     ]
    },
    {
     "name": "stderr",
     "output_type": "stream",
     "text": [
      "\n",
      " 72%|███████████████████████████████████████████████████████████████████████████████████▊                                | 13/18 [1:00:41<22:24, 268.92s/it]\u001b[A"
     ]
    },
    {
     "data": {
      "application/vnd.jupyter.widget-view+json": {
       "model_id": "afcb35d2ab6a4dc8b681aa847fbef041",
       "version_major": 2,
       "version_minor": 0
      },
      "text/plain": [
       "HBox(children=(FloatProgress(value=0.0, description='Pandas Apply', max=18577.0, style=ProgressStyle(descripti…"
      ]
     },
     "metadata": {},
     "output_type": "display_data"
    },
    {
     "name": "stderr",
     "output_type": "stream",
     "text": [
      "\n",
      " 78%|██████████████████████████████████████████████████████████████████████████████████████████▏                         | 14/18 [1:03:36<16:02, 240.62s/it]\u001b[A"
     ]
    },
    {
     "name": "stdout",
     "output_type": "stream",
     "text": [
      "\n"
     ]
    },
    {
     "data": {
      "application/vnd.jupyter.widget-view+json": {
       "model_id": "c37d22ad3553485ab3b8869df7aeeea4",
       "version_major": 2,
       "version_minor": 0
      },
      "text/plain": [
       "HBox(children=(FloatProgress(value=0.0, description='Pandas Apply', max=16922.0, style=ProgressStyle(descripti…"
      ]
     },
     "metadata": {},
     "output_type": "display_data"
    },
    {
     "name": "stderr",
     "output_type": "stream",
     "text": [
      "\n",
      " 83%|████████████████████████████████████████████████████████████████████████████████████████████████▋                   | 15/18 [1:06:16<10:49, 216.40s/it]\u001b[A"
     ]
    },
    {
     "name": "stdout",
     "output_type": "stream",
     "text": [
      "\n"
     ]
    },
    {
     "data": {
      "application/vnd.jupyter.widget-view+json": {
       "model_id": "a766fe491a214f889115befa718cbbbf",
       "version_major": 2,
       "version_minor": 0
      },
      "text/plain": [
       "HBox(children=(FloatProgress(value=0.0, description='Pandas Apply', max=32557.0, style=ProgressStyle(descripti…"
      ]
     },
     "metadata": {},
     "output_type": "display_data"
    },
    {
     "name": "stdout",
     "output_type": "stream",
     "text": [
      "\n"
     ]
    },
    {
     "name": "stderr",
     "output_type": "stream",
     "text": [
      "\n",
      " 89%|███████████████████████████████████████████████████████████████████████████████████████████████████████             | 16/18 [1:11:08<07:58, 239.05s/it]\u001b[A"
     ]
    },
    {
     "data": {
      "application/vnd.jupyter.widget-view+json": {
       "model_id": "8f0182c0b7ee40cbbeff285a975c781a",
       "version_major": 2,
       "version_minor": 0
      },
      "text/plain": [
       "HBox(children=(FloatProgress(value=0.0, description='Pandas Apply', max=32454.0, style=ProgressStyle(descripti…"
      ]
     },
     "metadata": {},
     "output_type": "display_data"
    },
    {
     "name": "stdout",
     "output_type": "stream",
     "text": [
      "\n"
     ]
    },
    {
     "name": "stderr",
     "output_type": "stream",
     "text": [
      "\n",
      " 94%|█████████████████████████████████████████████████████████████████████████████████████████████████████████████▌      | 17/18 [1:15:54<04:13, 253.18s/it]\u001b[A"
     ]
    },
    {
     "data": {
      "application/vnd.jupyter.widget-view+json": {
       "model_id": "a964e30e03cb44f186850ad0b988590b",
       "version_major": 2,
       "version_minor": 0
      },
      "text/plain": [
       "HBox(children=(FloatProgress(value=0.0, description='Pandas Apply', max=15902.0, style=ProgressStyle(descripti…"
      ]
     },
     "metadata": {},
     "output_type": "display_data"
    },
    {
     "name": "stderr",
     "output_type": "stream",
     "text": [
      "\n",
      "100%|████████████████████████████████████████████████████████████████████████████████████████████████████████████████████| 18/18 [1:18:20<00:00, 261.16s/it]\u001b[A"
     ]
    },
    {
     "name": "stdout",
     "output_type": "stream",
     "text": [
      "\n"
     ]
    },
    {
     "name": "stderr",
     "output_type": "stream",
     "text": [
      "\n"
     ]
    }
   ],
   "source": [
    "add_provinces(save_filenames_list=save_filenames, prov_map=prov_map, col='admin1Name_en')"
   ]
  },
  {
   "cell_type": "code",
   "execution_count": 65,
   "metadata": {},
   "outputs": [
    {
     "data": {
      "text/html": [
       "<div>\n",
       "<style scoped>\n",
       "    .dataframe tbody tr th:only-of-type {\n",
       "        vertical-align: middle;\n",
       "    }\n",
       "\n",
       "    .dataframe tbody tr th {\n",
       "        vertical-align: top;\n",
       "    }\n",
       "\n",
       "    .dataframe thead th {\n",
       "        text-align: right;\n",
       "    }\n",
       "</style>\n",
       "<table border=\"1\" class=\"dataframe\">\n",
       "  <thead>\n",
       "    <tr style=\"text-align: right;\">\n",
       "      <th></th>\n",
       "      <th>datetime</th>\n",
       "      <th>latitude</th>\n",
       "      <th>longitude</th>\n",
       "      <th>long_km</th>\n",
       "      <th>lat_km</th>\n",
       "      <th>country</th>\n",
       "      <th>province</th>\n",
       "    </tr>\n",
       "  </thead>\n",
       "  <tbody>\n",
       "    <tr>\n",
       "      <th>0</th>\n",
       "      <td>2003-07-04 11:07:00</td>\n",
       "      <td>15.1270</td>\n",
       "      <td>100.2900</td>\n",
       "      <td>11164.231732</td>\n",
       "      <td>1703.840795</td>\n",
       "      <td>Thailand</td>\n",
       "      <td>Chai Nat</td>\n",
       "    </tr>\n",
       "    <tr>\n",
       "      <th>1</th>\n",
       "      <td>2003-07-04 14:08:00</td>\n",
       "      <td>15.0607</td>\n",
       "      <td>100.5349</td>\n",
       "      <td>11191.493875</td>\n",
       "      <td>1696.196592</td>\n",
       "      <td>Thailand</td>\n",
       "      <td>Lop Buri</td>\n",
       "    </tr>\n",
       "    <tr>\n",
       "      <th>2</th>\n",
       "      <td>2003-07-04 14:08:00</td>\n",
       "      <td>16.1572</td>\n",
       "      <td>100.0197</td>\n",
       "      <td>11134.142073</td>\n",
       "      <td>1822.934595</td>\n",
       "      <td>Thailand</td>\n",
       "      <td>Nakhon Sawan</td>\n",
       "    </tr>\n",
       "    <tr>\n",
       "      <th>3</th>\n",
       "      <td>2003-07-04 14:08:00</td>\n",
       "      <td>16.1602</td>\n",
       "      <td>100.0244</td>\n",
       "      <td>11134.665275</td>\n",
       "      <td>1823.282289</td>\n",
       "      <td>Thailand</td>\n",
       "      <td>Nakhon Sawan</td>\n",
       "    </tr>\n",
       "    <tr>\n",
       "      <th>4</th>\n",
       "      <td>2003-07-06 10:54:00</td>\n",
       "      <td>14.6489</td>\n",
       "      <td>101.0417</td>\n",
       "      <td>11247.910593</td>\n",
       "      <td>1648.770053</td>\n",
       "      <td>Thailand</td>\n",
       "      <td>Saraburi</td>\n",
       "    </tr>\n",
       "  </tbody>\n",
       "</table>\n",
       "</div>"
      ],
      "text/plain": [
       "              datetime  latitude  longitude       long_km       lat_km  \\\n",
       "0  2003-07-04 11:07:00   15.1270   100.2900  11164.231732  1703.840795   \n",
       "1  2003-07-04 14:08:00   15.0607   100.5349  11191.493875  1696.196592   \n",
       "2  2003-07-04 14:08:00   16.1572   100.0197  11134.142073  1822.934595   \n",
       "3  2003-07-04 14:08:00   16.1602   100.0244  11134.665275  1823.282289   \n",
       "4  2003-07-06 10:54:00   14.6489   101.0417  11247.910593  1648.770053   \n",
       "\n",
       "    country      province  \n",
       "0  Thailand      Chai Nat  \n",
       "1  Thailand      Lop Buri  \n",
       "2  Thailand  Nakhon Sawan  \n",
       "3  Thailand  Nakhon Sawan  \n",
       "4  Thailand      Saraburi  "
      ]
     },
     "execution_count": 65,
     "metadata": {},
     "output_type": "execute_result"
    }
   ],
   "source": [
    "df = pd.read_csv(save_filenames[0])\n",
    "df.head()"
   ]
  },
  {
   "cell_type": "code",
   "execution_count": null,
   "metadata": {},
   "outputs": [],
   "source": []
  }
 ],
 "metadata": {
  "kernelspec": {
   "display_name": "Python 3",
   "language": "python",
   "name": "python3"
  },
  "language_info": {
   "codemirror_mode": {
    "name": "ipython",
    "version": 3
   },
   "file_extension": ".py",
   "mimetype": "text/x-python",
   "name": "python",
   "nbconvert_exporter": "python",
   "pygments_lexer": "ipython3",
   "version": "3.7.5"
  },
  "toc": {
   "base_numbering": 1,
   "nav_menu": {},
   "number_sections": true,
   "sideBar": true,
   "skip_h1_title": false,
   "title_cell": "Table of Contents",
   "title_sidebar": "Contents",
   "toc_cell": false,
   "toc_position": {},
   "toc_section_display": true,
   "toc_window_display": true
  }
 },
 "nbformat": 4,
 "nbformat_minor": 4
}
